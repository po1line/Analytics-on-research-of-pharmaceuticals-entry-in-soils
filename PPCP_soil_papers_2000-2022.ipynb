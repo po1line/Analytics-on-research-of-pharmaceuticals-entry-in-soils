{
 "cells": [
  {
   "cell_type": "markdown",
   "id": "5711487e-c6e0-4cde-9f47-c077a612b54f",
   "metadata": {
    "id": "5711487e-c6e0-4cde-9f47-c077a612b54f"
   },
   "source": [
    "# Project description\n",
    "\n",
    "This notebook represents data analytics on the topic of research dedicated to the spread of emerging contaminants -- pharmaceuticals and products of personal care products (PPCP). Influence of PPCP is mostly studied with the focus on the aquatic environment, however it is also worth to know the current state of the research dedicated to the less studied soil environment. To achieve this, analysis of titles and abstracts of peer-reviwed research papers published from 2000 to 2022 is performed.\n",
    "\n",
    "This notebook consists of:\n",
    "* data acquisition \n",
    "* data preparation\n",
    "* data comparison\n",
    "* and data visualisation steps.\n",
    "\n",
    "Each step is supplied with comments, so it would be easy to understand the analysis workflow and reproduce it.\n",
    "To perform analysis data from Dimensions scientific database https://www.dimensions.ai and Umwelt Bundesamt (UBA) Pharmaceuticals in the environment https://www.umweltbundesamt.de/en/database-pharmaceuticals-in-the-environment-0 were used."
   ]
  },
  {
   "cell_type": "markdown",
   "id": "2e1ea36b-0e2d-4dcf-89dd-6c6f4a25ec27",
   "metadata": {
    "id": "2e1ea36b-0e2d-4dcf-89dd-6c6f4a25ec27"
   },
   "source": [
    "## Import libraries"
   ]
  },
  {
   "cell_type": "code",
   "execution_count": 1,
   "id": "8c39bafb-dad0-45bf-96a2-b904bbbb9a6b",
   "metadata": {
    "id": "8c39bafb-dad0-45bf-96a2-b904bbbb9a6b"
   },
   "outputs": [],
   "source": [
    "import pandas as pd\n",
    "import seaborn as sns\n",
    "import matplotlib.pyplot as plt\n",
    "import math\n",
    "import regex as re\n",
    "import numpy as np\n",
    "import os\n",
    "import glob\n",
    "from pprint import pprint"
   ]
  },
  {
   "cell_type": "markdown",
   "id": "d0cbee90-0552-4656-a6e9-6fe844ccb311",
   "metadata": {
    "id": "d0cbee90-0552-4656-a6e9-6fe844ccb311"
   },
   "source": [
    "## Creating peer-reviewed papers work dataset "
   ]
  },
  {
   "cell_type": "code",
   "execution_count": 2,
   "id": "y-qXnBuWRmS0",
   "metadata": {
    "colab": {
     "base_uri": "https://localhost:8080/"
    },
    "id": "y-qXnBuWRmS0",
    "outputId": "ac0c8ce3-8ad9-418f-9cdc-8dc0f2f2423c"
   },
   "outputs": [],
   "source": [
    "try:\n",
    "  import google.colab\n",
    "  !git clone https://github.com/po1line/Analytics-on-research-of-pharmaceuticals-entry-in-soils\n",
    "  %cd Analytics-on-research-of-pharmaceuticals-entry-in-soils\n",
    "except Exception:\n",
    "  pass"
   ]
  },
  {
   "cell_type": "code",
   "execution_count": 3,
   "id": "46a71ca9-b1bd-4d04-978f-628963361cf0",
   "metadata": {
    "colab": {
     "base_uri": "https://localhost:8080/"
    },
    "id": "46a71ca9-b1bd-4d04-978f-628963361cf0",
    "outputId": "b3331ce1-9b17-49d8-dfe2-003049fbdce7"
   },
   "outputs": [
    {
     "name": "stdout",
     "output_type": "stream",
     "text": [
      "papers_2007-2000.xlsx papers_2017-2016.xlsx papers_2020.xlsx\n",
      "papers_2012-2008.xlsx papers_2018.xlsx      papers_2021.xlsx\n",
      "papers_2015-2013.xlsx papers_2019.xlsx      papers_2022.xlsx\n"
     ]
    }
   ],
   "source": [
    "!ls data/dimensions/\n"
   ]
  },
  {
   "cell_type": "code",
   "execution_count": 4,
   "id": "c7ff2cac-4a52-41e4-aa5f-b4dbd2d729df",
   "metadata": {
    "colab": {
     "base_uri": "https://localhost:8080/"
    },
    "id": "c7ff2cac-4a52-41e4-aa5f-b4dbd2d729df",
    "outputId": "529f1639-a2cd-48d2-ec90-12c3f643f936"
   },
   "outputs": [
    {
     "name": "stdout",
     "output_type": "stream",
     "text": [
      "['data/dimensions/papers_2012-2008.xlsx',\n",
      " 'data/dimensions/papers_2021.xlsx',\n",
      " 'data/dimensions/papers_2020.xlsx',\n",
      " 'data/dimensions/papers_2015-2013.xlsx',\n",
      " 'data/dimensions/papers_2017-2016.xlsx',\n",
      " 'data/dimensions/papers_2007-2000.xlsx',\n",
      " 'data/dimensions/papers_2019.xlsx',\n",
      " 'data/dimensions/papers_2022.xlsx',\n",
      " 'data/dimensions/papers_2018.xlsx']\n"
     ]
    }
   ],
   "source": [
    "#folder\n",
    "path = \"data/dimensions/\"\n",
    "#global search in set folder of xlsx files\n",
    "filenames = glob.glob(path + \"*.xlsx\")\n",
    "#looking at the files\n",
    "pprint(filenames)"
   ]
  },
  {
   "cell_type": "code",
   "execution_count": 5,
   "id": "d74f2485-ba5b-4bc4-a9ba-3f3ab7e72e05",
   "metadata": {
    "id": "d74f2485-ba5b-4bc4-a9ba-3f3ab7e72e05"
   },
   "outputs": [],
   "source": [
    "#collecting files in merged dataframe\n",
    "df = pd.DataFrame() #starting with empty dataframe\n",
    "for file_name in filenames:\n",
    "    data = pd.read_excel(file_name, \n",
    "                         skiprows=[0])\n",
    "    df = pd.concat((df,data)).reset_index(drop=True)\n",
    "#appending each read table in the empty dataframe\n",
    "#important! do not forget to drop index at appending stage to avoid multiple index search results\n"
   ]
  },
  {
   "cell_type": "code",
   "execution_count": 6,
   "id": "10392b6d-27ba-4b64-9123-5337c095a6e4",
   "metadata": {
    "colab": {
     "base_uri": "https://localhost:8080/",
     "height": 1000
    },
    "id": "10392b6d-27ba-4b64-9123-5337c095a6e4",
    "outputId": "dede9aa4-7017-4218-cfff-94ed5b88e4fd"
   },
   "outputs": [
    {
     "data": {
      "text/html": [
       "<div>\n",
       "<style scoped>\n",
       "    .dataframe tbody tr th:only-of-type {\n",
       "        vertical-align: middle;\n",
       "    }\n",
       "\n",
       "    .dataframe tbody tr th {\n",
       "        vertical-align: top;\n",
       "    }\n",
       "\n",
       "    .dataframe thead th {\n",
       "        text-align: right;\n",
       "    }\n",
       "</style>\n",
       "<table border=\"1\" class=\"dataframe\">\n",
       "  <thead>\n",
       "    <tr style=\"text-align: right;\">\n",
       "      <th></th>\n",
       "      <th>Rank</th>\n",
       "      <th>Publication ID</th>\n",
       "      <th>DOI</th>\n",
       "      <th>PMID</th>\n",
       "      <th>PMCID</th>\n",
       "      <th>Title</th>\n",
       "      <th>Abstract</th>\n",
       "      <th>Acknowledgements</th>\n",
       "      <th>Source title</th>\n",
       "      <th>Anthology title</th>\n",
       "      <th>...</th>\n",
       "      <th>Corresponding Authors</th>\n",
       "      <th>Authors Affiliations</th>\n",
       "      <th>Times cited</th>\n",
       "      <th>Recent citations</th>\n",
       "      <th>RCR</th>\n",
       "      <th>FCR</th>\n",
       "      <th>Source Linkout</th>\n",
       "      <th>Dimensions URL</th>\n",
       "      <th>FOR (ANZSRC) Categories</th>\n",
       "      <th>Sustainable Development Goals</th>\n",
       "    </tr>\n",
       "  </thead>\n",
       "  <tbody>\n",
       "    <tr>\n",
       "      <th>0</th>\n",
       "      <td>3405</td>\n",
       "      <td>pub.1034753825</td>\n",
       "      <td>10.1002/etc.487</td>\n",
       "      <td>21312249.0</td>\n",
       "      <td>NaN</td>\n",
       "      <td>Influence of sewage and pharmaceuticals on soi...</td>\n",
       "      <td>Although sewage effluent application to land i...</td>\n",
       "      <td>We thank Catriona MacDonald and ESR for advice...</td>\n",
       "      <td>Environmental Toxicology and Chemistry</td>\n",
       "      <td>NaN</td>\n",
       "      <td>...</td>\n",
       "      <td>NaN</td>\n",
       "      <td>Gielen, Gerty J. H. P. (Scion); Clinton, Peter...</td>\n",
       "      <td>14</td>\n",
       "      <td>3</td>\n",
       "      <td>0.43</td>\n",
       "      <td>1.47</td>\n",
       "      <td>NaN</td>\n",
       "      <td>https://app.dimensions.ai/details/publication/...</td>\n",
       "      <td>0605 Microbiology; 0503 Soil Sciences; 05 Envi...</td>\n",
       "      <td>NaN</td>\n",
       "    </tr>\n",
       "    <tr>\n",
       "      <th>1</th>\n",
       "      <td>3376</td>\n",
       "      <td>pub.1069010127</td>\n",
       "      <td>10.2134/jeq2009.0090</td>\n",
       "      <td>20830908.0</td>\n",
       "      <td>NaN</td>\n",
       "      <td>Selected Veterinary Pharmaceuticals in Agricul...</td>\n",
       "      <td>Veterinary pharmaceuticals are commonly admini...</td>\n",
       "      <td>This study was supported in part by Agricultur...</td>\n",
       "      <td>Journal of Environmental Quality</td>\n",
       "      <td>NaN</td>\n",
       "      <td>...</td>\n",
       "      <td>Li, Hui (Michigan State University)</td>\n",
       "      <td>Song, Wenlu (Michigan State University); Ding,...</td>\n",
       "      <td>48</td>\n",
       "      <td>3</td>\n",
       "      <td>1.74</td>\n",
       "      <td>4.91</td>\n",
       "      <td>NaN</td>\n",
       "      <td>https://app.dimensions.ai/details/publication/...</td>\n",
       "      <td>0503 Soil Sciences; 05 Environmental Sciences</td>\n",
       "      <td>NaN</td>\n",
       "    </tr>\n",
       "    <tr>\n",
       "      <th>2</th>\n",
       "      <td>3320</td>\n",
       "      <td>pub.1026757075</td>\n",
       "      <td>10.1007/s00244-010-9500-y</td>\n",
       "      <td>20340015.0</td>\n",
       "      <td>NaN</td>\n",
       "      <td>Dissipation and Leaching Potential of Selected...</td>\n",
       "      <td>Biosolids land application is an important pat...</td>\n",
       "      <td>This research was funded by the USDA-CSREES pr...</td>\n",
       "      <td>Archives of Environmental Contamination and To...</td>\n",
       "      <td>NaN</td>\n",
       "      <td>...</td>\n",
       "      <td>Wu, Chenxi (University of Toledo)</td>\n",
       "      <td>Wu, Chenxi (University of Toledo); Spongberg, ...</td>\n",
       "      <td>38</td>\n",
       "      <td>4</td>\n",
       "      <td>1.20</td>\n",
       "      <td>3.97</td>\n",
       "      <td>NaN</td>\n",
       "      <td>https://app.dimensions.ai/details/publication/...</td>\n",
       "      <td>0503 Soil Sciences; 05 Environmental Sciences</td>\n",
       "      <td>NaN</td>\n",
       "    </tr>\n",
       "  </tbody>\n",
       "</table>\n",
       "<p>3 rows × 32 columns</p>\n",
       "</div>"
      ],
      "text/plain": [
       "   Rank  Publication ID                        DOI        PMID PMCID  \\\n",
       "0  3405  pub.1034753825            10.1002/etc.487  21312249.0   NaN   \n",
       "1  3376  pub.1069010127       10.2134/jeq2009.0090  20830908.0   NaN   \n",
       "2  3320  pub.1026757075  10.1007/s00244-010-9500-y  20340015.0   NaN   \n",
       "\n",
       "                                               Title  \\\n",
       "0  Influence of sewage and pharmaceuticals on soi...   \n",
       "1  Selected Veterinary Pharmaceuticals in Agricul...   \n",
       "2  Dissipation and Leaching Potential of Selected...   \n",
       "\n",
       "                                            Abstract  \\\n",
       "0  Although sewage effluent application to land i...   \n",
       "1  Veterinary pharmaceuticals are commonly admini...   \n",
       "2  Biosolids land application is an important pat...   \n",
       "\n",
       "                                    Acknowledgements  \\\n",
       "0  We thank Catriona MacDonald and ESR for advice...   \n",
       "1  This study was supported in part by Agricultur...   \n",
       "2  This research was funded by the USDA-CSREES pr...   \n",
       "\n",
       "                                        Source title Anthology title  ...  \\\n",
       "0             Environmental Toxicology and Chemistry             NaN  ...   \n",
       "1                   Journal of Environmental Quality             NaN  ...   \n",
       "2  Archives of Environmental Contamination and To...             NaN  ...   \n",
       "\n",
       "                 Corresponding Authors  \\\n",
       "0                                  NaN   \n",
       "1  Li, Hui (Michigan State University)   \n",
       "2    Wu, Chenxi (University of Toledo)   \n",
       "\n",
       "                                Authors Affiliations  Times cited  \\\n",
       "0  Gielen, Gerty J. H. P. (Scion); Clinton, Peter...           14   \n",
       "1  Song, Wenlu (Michigan State University); Ding,...           48   \n",
       "2  Wu, Chenxi (University of Toledo); Spongberg, ...           38   \n",
       "\n",
       "  Recent citations   RCR   FCR Source Linkout  \\\n",
       "0                3  0.43  1.47            NaN   \n",
       "1                3  1.74  4.91            NaN   \n",
       "2                4  1.20  3.97            NaN   \n",
       "\n",
       "                                      Dimensions URL  \\\n",
       "0  https://app.dimensions.ai/details/publication/...   \n",
       "1  https://app.dimensions.ai/details/publication/...   \n",
       "2  https://app.dimensions.ai/details/publication/...   \n",
       "\n",
       "                             FOR (ANZSRC) Categories  \\\n",
       "0  0605 Microbiology; 0503 Soil Sciences; 05 Envi...   \n",
       "1      0503 Soil Sciences; 05 Environmental Sciences   \n",
       "2      0503 Soil Sciences; 05 Environmental Sciences   \n",
       "\n",
       "  Sustainable Development Goals  \n",
       "0                           NaN  \n",
       "1                           NaN  \n",
       "2                           NaN  \n",
       "\n",
       "[3 rows x 32 columns]"
      ]
     },
     "metadata": {},
     "output_type": "display_data"
    },
    {
     "name": "stdout",
     "output_type": "stream",
     "text": [
      "<class 'pandas.core.frame.DataFrame'>\n",
      "RangeIndex: 2983 entries, 0 to 2982\n",
      "Data columns (total 32 columns):\n",
      " #   Column                         Non-Null Count  Dtype  \n",
      "---  ------                         --------------  -----  \n",
      " 0   Rank                           2983 non-null   int64  \n",
      " 1   Publication ID                 2983 non-null   object \n",
      " 2   DOI                            2950 non-null   object \n",
      " 3   PMID                           1432 non-null   float64\n",
      " 4   PMCID                          317 non-null    object \n",
      " 5   Title                          2983 non-null   object \n",
      " 6   Abstract                       2948 non-null   object \n",
      " 7   Acknowledgements               1518 non-null   object \n",
      " 8   Source title                   2684 non-null   object \n",
      " 9   Anthology title                471 non-null    object \n",
      " 10  MeSH terms                     1224 non-null   object \n",
      " 11  Publication Date               2983 non-null   object \n",
      " 12  PubYear                        2983 non-null   int64  \n",
      " 13  Publication Date (online)      2298 non-null   object \n",
      " 14  Publication Date (print)       2516 non-null   object \n",
      " 15  Volume                         2517 non-null   object \n",
      " 16  Issue                          1797 non-null   object \n",
      " 17  Pagination                     2893 non-null   object \n",
      " 18  Open Access                    2983 non-null   object \n",
      " 19  Publication Type               2983 non-null   object \n",
      " 20  Authors                        2968 non-null   object \n",
      " 21  Authors (Raw Affiliation)      2968 non-null   object \n",
      " 22  Corresponding Authors          1914 non-null   object \n",
      " 23  Authors Affiliations           2968 non-null   object \n",
      " 24  Times cited                    2983 non-null   int64  \n",
      " 25  Recent citations               2983 non-null   int64  \n",
      " 26  RCR                            1122 non-null   float64\n",
      " 27  FCR                            2171 non-null   float64\n",
      " 28  Source Linkout                 1073 non-null   object \n",
      " 29  Dimensions URL                 2983 non-null   object \n",
      " 30  FOR (ANZSRC) Categories        2945 non-null   object \n",
      " 31  Sustainable Development Goals  365 non-null    object \n",
      "dtypes: float64(3), int64(4), object(25)\n",
      "memory usage: 745.9+ KB\n",
      "None\n"
     ]
    }
   ],
   "source": [
    "#look at the data\n",
    "display(df.head(3))\n",
    "print(df.info())"
   ]
  },
  {
   "cell_type": "code",
   "execution_count": 7,
   "id": "0917ad90-48a8-44b2-89ba-f1fb909d6e4f",
   "metadata": {
    "colab": {
     "base_uri": "https://localhost:8080/"
    },
    "id": "0917ad90-48a8-44b2-89ba-f1fb909d6e4f",
    "outputId": "cae34f52-8d8a-4c52-f007-192c83e860ae"
   },
   "outputs": [
    {
     "name": "stdout",
     "output_type": "stream",
     "text": [
      "<class 'pandas.core.frame.DataFrame'>\n",
      "RangeIndex: 2951 entries, 0 to 2950\n",
      "Data columns (total 32 columns):\n",
      " #   Column                         Non-Null Count  Dtype  \n",
      "---  ------                         --------------  -----  \n",
      " 0   Rank                           2951 non-null   int64  \n",
      " 1   Publication ID                 2951 non-null   object \n",
      " 2   DOI                            2950 non-null   object \n",
      " 3   PMID                           1400 non-null   float64\n",
      " 4   PMCID                          312 non-null    object \n",
      " 5   Title                          2951 non-null   object \n",
      " 6   Abstract                       2918 non-null   object \n",
      " 7   Acknowledgements               1515 non-null   object \n",
      " 8   Source title                   2652 non-null   object \n",
      " 9   Anthology title                471 non-null    object \n",
      " 10  MeSH terms                     1195 non-null   object \n",
      " 11  Publication Date               2951 non-null   object \n",
      " 12  PubYear                        2951 non-null   int64  \n",
      " 13  Publication Date (online)      2298 non-null   object \n",
      " 14  Publication Date (print)       2484 non-null   object \n",
      " 15  Volume                         2487 non-null   object \n",
      " 16  Issue                          1767 non-null   object \n",
      " 17  Pagination                     2861 non-null   object \n",
      " 18  Open Access                    2951 non-null   object \n",
      " 19  Publication Type               2951 non-null   object \n",
      " 20  Authors                        2937 non-null   object \n",
      " 21  Authors (Raw Affiliation)      2937 non-null   object \n",
      " 22  Corresponding Authors          1914 non-null   object \n",
      " 23  Authors Affiliations           2937 non-null   object \n",
      " 24  Times cited                    2951 non-null   int64  \n",
      " 25  Recent citations               2951 non-null   int64  \n",
      " 26  RCR                            1100 non-null   float64\n",
      " 27  FCR                            2141 non-null   float64\n",
      " 28  Source Linkout                 1073 non-null   object \n",
      " 29  Dimensions URL                 2951 non-null   object \n",
      " 30  FOR (ANZSRC) Categories        2914 non-null   object \n",
      " 31  Sustainable Development Goals  362 non-null    object \n",
      "dtypes: float64(3), int64(4), object(25)\n",
      "memory usage: 737.9+ KB\n",
      "None\n"
     ]
    }
   ],
   "source": [
    "# removing duplicated entries with the same DOIs  \n",
    "df.drop_duplicates(subset = ['DOI'], inplace=True, ignore_index=True)\n",
    "print(df.info())"
   ]
  },
  {
   "cell_type": "markdown",
   "id": "c6c2c45e-5ea8-4340-bc11-4ef4de23f627",
   "metadata": {
    "id": "c6c2c45e-5ea8-4340-bc11-4ef4de23f627",
    "tags": []
   },
   "source": [
    "### First look at the publication statistics"
   ]
  },
  {
   "cell_type": "code",
   "execution_count": 8,
   "id": "2fadba2f-70b8-44f8-994b-6a9cde053aa2",
   "metadata": {
    "colab": {
     "base_uri": "https://localhost:8080/",
     "height": 432
    },
    "id": "2fadba2f-70b8-44f8-994b-6a9cde053aa2",
    "outputId": "5249edc3-3bd7-4f2e-b8ef-2faea75212e1"
   },
   "outputs": [
    {
     "data": {
      "image/png": "[encoded data removed]",
      "text/plain": [
       "<Figure size 864x432 with 1 Axes>"
      ]
     },
     "metadata": {
      "needs_background": "light"
     },
     "output_type": "display_data"
    }
   ],
   "source": [
    "#prepare data from doi counts by years and visualise it\n",
    "published_papers = df.groupby('PubYear')[['DOI']].count().reset_index()\n",
    "published_papers['perc']=100*published_papers['DOI']/published_papers['DOI'].sum()\n",
    "\n",
    "ax = published_papers.plot(x='PubYear', y='perc', kind='bar', \n",
    "                                                figsize=(12, 6),\n",
    "                                                color = 'black', \n",
    "                                                fontsize = 14,\n",
    "                                                legend=False)\n",
    "plt.xlabel('Year', fontsize=18)\n",
    "plt.ylabel(r'Papers published'\n",
    "           '\\n'\n",
    "           r'(percent from all in period 2000-2022)', fontsize=18)\n",
    "\n",
    "output_name = 'result_plots/published_papers.png'\n",
    "plt.savefig(output_name, dpi=300, bbox_inches='tight')"
   ]
  },
  {
   "cell_type": "code",
   "execution_count": 9,
   "id": "7a4c671a-e2cc-4103-a31e-ebb52eca8888",
   "metadata": {
    "id": "7a4c671a-e2cc-4103-a31e-ebb52eca8888"
   },
   "outputs": [],
   "source": [
    "#absolute values\n",
    "#df.groupby('PubYear')[['PubYear']].count().plot(kind='bar', \n",
    "#                                                figsize=(12, 6),\n",
    "#                                                color = 'black', \n",
    "#                                                fontsize = 14,\n",
    "#                                                legend=False)\n",
    "\n",
    "#plt.xlabel('Year', fontsize=18)\n",
    "#plt.ylabel('Papers published', fontsize=18)\n",
    "#plt.savefig('published_papers.png', dpi=300, bbox_inches='tight')"
   ]
  },
  {
   "cell_type": "markdown",
   "id": "a1574ca1-39d2-4eae-a174-28237f4e91d2",
   "metadata": {
    "id": "a1574ca1-39d2-4eae-a174-28237f4e91d2"
   },
   "source": [
    "### Data cleaning \n",
    "In data cleaning step we \n",
    "* remove coding characters and punctiation symbols\n",
    "* set lowercases for the text of abstract"
   ]
  },
  {
   "cell_type": "code",
   "execution_count": 10,
   "id": "452f0e97-f28b-442e-9bf2-621226e68aff",
   "metadata": {
    "colab": {
     "base_uri": "https://localhost:8080/",
     "height": 166
    },
    "id": "452f0e97-f28b-442e-9bf2-621226e68aff",
    "outputId": "23f67494-6327-4216-d0e4-9991b083430a"
   },
   "outputs": [
    {
     "data": {
      "text/plain": [
       "'Application of municipal biosolids in agriculture present a concern with potential uptake and bioaccumulation of pharmaceutical compounds from biosolids into agronomic plants. We evaluated the efficacy of biochar as a soil amendment to minimize uptake of antimicrobial agents (ciprofloxacin, triclocarban, and triclosan) in lettuce (Lactuca sativa) and carrot (Daucus carota) plants. Biochar reduced the concentration of ciprofloxacin and triclocarban in lettuce leaves and resulted in a 67% reduction of triclosan in carrot roots. There was no substantial difference in pharmaceutical concentrations in carrot and lettuce plant matter at low (2.0\\u2009g kg-1 soil) and high (20.4\\u2009g kg-1 soil) rates of applied biochar. The co-amendment of biochar and biosolids increased soil pH and nutrient content which were positively correlated with an increase in lettuce shoot biomass. Our results demonstrate the potential efficacy of using walnut shell biochar as a sorbent for pharmaceutical contaminants in soil without negatively affecting plant growth.'"
      ]
     },
     "execution_count": 10,
     "metadata": {},
     "output_type": "execute_result"
    }
   ],
   "source": [
    "#example of such characters \n",
    "df.Abstract[860]"
   ]
  },
  {
   "cell_type": "code",
   "execution_count": 11,
   "id": "e7c4fca4-e025-490b-af1a-daea4e143639",
   "metadata": {
    "colab": {
     "base_uri": "https://localhost:8080/",
     "height": 166
    },
    "id": "e7c4fca4-e025-490b-af1a-daea4e143639",
    "outputId": "05f7b4e7-839b-48d0-8587-2b659d1aea78"
   },
   "outputs": [
    {
     "data": {
      "text/plain": [
       "'application of municipal biosolids in agriculture present a concern with potential uptake and bioaccumulation of pharmaceutical compounds from biosolids into agronomic plants we evaluated the efficacy of biochar as a soil amendment to minimize uptake of antimicrobial agents ciprofloxacin triclocarban and triclosan in lettuce lactuca sativa and carrot daucus carota plants biochar reduced the concentration of ciprofloxacin and triclocarban in lettuce leaves and resulted in a reduction of triclosan in carrot roots there was no substantial difference in pharmaceutical concentrations in carrot and lettuce plant matter at low g kg soil and high g kg soil rates of applied biochar the co amendment of biochar and biosolids increased soil ph and nutrient content which were positively correlated with an increase in lettuce shoot biomass our results demonstrate the potential efficacy of using walnut shell biochar as a sorbent for pharmaceutical contaminants in soil without negatively affecting plant growth '"
      ]
     },
     "execution_count": 11,
     "metadata": {},
     "output_type": "execute_result"
    }
   ],
   "source": [
    "#apply encode-decode to the all items in column\n",
    "df.Abstract=df.Abstract.str.encode('utf-8').str.decode('ascii', 'ignore')\n",
    "\n",
    "#lowering letters, removing syntax and other non-letter characters \n",
    "df.Abstract = df.Abstract.str.replace('[^a-zA-Z]', ' ', regex=True)\n",
    "df.Abstract = df.Abstract.replace(r'\\s+', ' ', regex=True)\n",
    "\n",
    "\n",
    "#lower case\n",
    "df['Abstract'] = df['Abstract'].str.lower()\n",
    "\n",
    "#check\n",
    "df.Abstract[860]"
   ]
  },
  {
   "cell_type": "markdown",
   "id": "ccd86c44-17e5-4751-ac8f-8f618c019be3",
   "metadata": {
    "id": "ccd86c44-17e5-4751-ac8f-8f618c019be3"
   },
   "source": [
    "## Reading the data from database of Umwelt Bundesamt and comparing dimensions df data with it\n",
    "Database \"Pharmaceuticals in the environment\" (Excel file)\n",
    "<br> Sheet 1 -- concentrations found in environment with citation source from international and local litarature\n",
    "<br> Sheet 2 -- general information, including therapeutic groups descriptions\n",
    "https://www.umweltbundesamt.de/dokument/database-pharmaceuticals-in-the-environment-excel\n",
    "\n",
    "In this section we perform next steps:\n",
    "* we exctract name of analytes by which we perform search through the abstracts\n",
    "* we exctract corresponding therapeutic group and target group names and combine them with name of analytes into the dictionaries with keys"
   ]
  },
  {
   "cell_type": "code",
   "execution_count": 12,
   "id": "8a7db87d-e7fd-43df-8025-8f8a49467e59",
   "metadata": {
    "colab": {
     "base_uri": "https://localhost:8080/",
     "height": 329
    },
    "id": "8a7db87d-e7fd-43df-8025-8f8a49467e59",
    "outputId": "bfa20670-a9d9-4941-9813-2898c72775e4"
   },
   "outputs": [
    {
     "data": {
      "text/html": [
       "<div>\n",
       "<style scoped>\n",
       "    .dataframe tbody tr th:only-of-type {\n",
       "        vertical-align: middle;\n",
       "    }\n",
       "\n",
       "    .dataframe tbody tr th {\n",
       "        vertical-align: top;\n",
       "    }\n",
       "\n",
       "    .dataframe thead th {\n",
       "        text-align: right;\n",
       "    }\n",
       "</style>\n",
       "<table border=\"1\" class=\"dataframe\">\n",
       "  <thead>\n",
       "    <tr style=\"text-align: right;\">\n",
       "      <th></th>\n",
       "      <th>Name of Analyte</th>\n",
       "      <th>Analyte Name German</th>\n",
       "      <th>CAS number</th>\n",
       "      <th>Therapeutic Group English</th>\n",
       "      <th>Therapeutic Group German</th>\n",
       "      <th>Target Group</th>\n",
       "      <th>Type of Analyte</th>\n",
       "      <th>Pharma Parent Transformation</th>\n",
       "      <th>PharmaATC1</th>\n",
       "      <th>PharmaATC2</th>\n",
       "      <th>PharmaATC3</th>\n",
       "      <th>PharmaATC4</th>\n",
       "      <th>PharmaATC5</th>\n",
       "      <th>PharmaATC6</th>\n",
       "      <th>PharmaATC7</th>\n",
       "      <th>PharmaATC8</th>\n",
       "      <th>PharmaATC9</th>\n",
       "      <th>PharmaATC10</th>\n",
       "      <th>PharmaATC11</th>\n",
       "    </tr>\n",
       "  </thead>\n",
       "  <tbody>\n",
       "    <tr>\n",
       "      <th>0</th>\n",
       "      <td>1-(3-Chlorophenyl)-piperazine</td>\n",
       "      <td>1-(3-Chlorophenyl)-piperazin</td>\n",
       "      <td>6640-24-0</td>\n",
       "      <td>Antidepressant</td>\n",
       "      <td>Antidepressiva</td>\n",
       "      <td>Human</td>\n",
       "      <td>Transformation product</td>\n",
       "      <td>Trazodone</td>\n",
       "      <td>NaN</td>\n",
       "      <td>NaN</td>\n",
       "      <td>NaN</td>\n",
       "      <td>NaN</td>\n",
       "      <td>NaN</td>\n",
       "      <td>NaN</td>\n",
       "      <td>NaN</td>\n",
       "      <td>NaN</td>\n",
       "      <td>NaN</td>\n",
       "      <td>NaN</td>\n",
       "      <td>NaN</td>\n",
       "    </tr>\n",
       "    <tr>\n",
       "      <th>1</th>\n",
       "      <td>1,2-Dihydro budesonide</td>\n",
       "      <td>1,2-Dihydro budesonide</td>\n",
       "      <td>137174-25-5</td>\n",
       "      <td>Glucocorticoids</td>\n",
       "      <td>Glucocorticode</td>\n",
       "      <td>Human</td>\n",
       "      <td>Transformation product</td>\n",
       "      <td>Budesonide</td>\n",
       "      <td>NaN</td>\n",
       "      <td>NaN</td>\n",
       "      <td>NaN</td>\n",
       "      <td>NaN</td>\n",
       "      <td>NaN</td>\n",
       "      <td>NaN</td>\n",
       "      <td>NaN</td>\n",
       "      <td>NaN</td>\n",
       "      <td>NaN</td>\n",
       "      <td>NaN</td>\n",
       "      <td>NaN</td>\n",
       "    </tr>\n",
       "    <tr>\n",
       "      <th>2</th>\n",
       "      <td>1,2-Dihydro clobetasol propionate</td>\n",
       "      <td>1,2-Dihydro clobetasol propionate</td>\n",
       "      <td>25120-99-4</td>\n",
       "      <td>Glucocorticoids</td>\n",
       "      <td>Glucocorticode</td>\n",
       "      <td>Human</td>\n",
       "      <td>Transformation product</td>\n",
       "      <td>Clobetasol</td>\n",
       "      <td>NaN</td>\n",
       "      <td>NaN</td>\n",
       "      <td>NaN</td>\n",
       "      <td>NaN</td>\n",
       "      <td>NaN</td>\n",
       "      <td>NaN</td>\n",
       "      <td>NaN</td>\n",
       "      <td>NaN</td>\n",
       "      <td>NaN</td>\n",
       "      <td>NaN</td>\n",
       "      <td>NaN</td>\n",
       "    </tr>\n",
       "  </tbody>\n",
       "</table>\n",
       "</div>"
      ],
      "text/plain": [
       "                     Name of Analyte                Analyte Name German  \\\n",
       "0      1-(3-Chlorophenyl)-piperazine       1-(3-Chlorophenyl)-piperazin   \n",
       "1             1,2-Dihydro budesonide             1,2-Dihydro budesonide   \n",
       "2  1,2-Dihydro clobetasol propionate  1,2-Dihydro clobetasol propionate   \n",
       "\n",
       "    CAS number Therapeutic Group English Therapeutic Group German  \\\n",
       "0    6640-24-0            Antidepressant           Antidepressiva   \n",
       "1  137174-25-5           Glucocorticoids           Glucocorticode   \n",
       "2   25120-99-4           Glucocorticoids           Glucocorticode   \n",
       "\n",
       "  Target Group         Type of Analyte Pharma Parent Transformation  \\\n",
       "0        Human  Transformation product                    Trazodone   \n",
       "1        Human  Transformation product                   Budesonide   \n",
       "2        Human  Transformation product                   Clobetasol   \n",
       "\n",
       "  PharmaATC1 PharmaATC2 PharmaATC3 PharmaATC4 PharmaATC5 PharmaATC6  \\\n",
       "0        NaN        NaN        NaN        NaN        NaN        NaN   \n",
       "1        NaN        NaN        NaN        NaN        NaN        NaN   \n",
       "2        NaN        NaN        NaN        NaN        NaN        NaN   \n",
       "\n",
       "  PharmaATC7 PharmaATC8 PharmaATC9 PharmaATC10 PharmaATC11  \n",
       "0        NaN        NaN        NaN         NaN         NaN  \n",
       "1        NaN        NaN        NaN         NaN         NaN  \n",
       "2        NaN        NaN        NaN         NaN         NaN  "
      ]
     },
     "execution_count": 12,
     "metadata": {},
     "output_type": "execute_result"
    }
   ],
   "source": [
    "FOLDER = './data/'\n",
    "path2 = os.path.join(FOLDER, 'pharms-uba_v3_2021_0.xlsx')\n",
    "source_base = pd.read_excel(path2, sheet_name = 'Pharma_Agents_v3')\n",
    "source_base.head(3)"
   ]
  },
  {
   "cell_type": "code",
   "execution_count": 13,
   "id": "442c13f0-10a0-4bbb-b342-70a4ef27d93a",
   "metadata": {
    "colab": {
     "base_uri": "https://localhost:8080/"
    },
    "id": "442c13f0-10a0-4bbb-b342-70a4ef27d93a",
    "outputId": "457c1cda-388d-4577-e798-433004247286"
   },
   "outputs": [
    {
     "data": {
      "text/plain": [
       "['1-(3-chlorophenyl)-piperazine',\n",
       " '1,2-dihydro budesonide',\n",
       " '1,2-dihydro clobetasol propionate',\n",
       " '1,2-dihydro fluocinolone acetonide',\n",
       " '1,5-dimethyl-1,2-dehydro-3-pyrazolone',\n",
       " '10,11-dihydro-10,11-dihydroxy carbamazepine',\n",
       " '10,11-dihydro-10,11-epoxycarbamazepine',\n",
       " '10,11-dihydro-10-hydroxycarbamazepine',\n",
       " '10,11-dihydrocarbamazepine',\n",
       " '10-hydroxy-amitriptyline']"
      ]
     },
     "execution_count": 13,
     "metadata": {},
     "output_type": "execute_result"
    }
   ],
   "source": [
    "#extracting of unique names of pharm analytes from UBA database\n",
    "source_list = source_base['Name of Analyte'].str.lower().unique().tolist()\n",
    "#looking at the list\n",
    "source_list[:10]"
   ]
  },
  {
   "cell_type": "code",
   "execution_count": 14,
   "id": "d0b4548d-f119-4016-b45a-ac6afeaba538",
   "metadata": {
    "id": "d0b4548d-f119-4016-b45a-ac6afeaba538",
    "tags": []
   },
   "outputs": [],
   "source": [
    "#creating keys dictionaries\n",
    "source_base = source_base.apply(lambda x: x.astype(str).str.lower())\n",
    "\n",
    "#rename few columns for convenience\n",
    "source_base.rename(columns = {'Name of Analyte':'name_of_analyte', \n",
    "                              'Therapeutic Group English':'therapeutic_group_english',\n",
    "                              'Target Group': 'target_group'}, inplace = True)\n",
    "\n",
    "#setting a dictionary with pair key:value == name of analyte:therapeutic group\n",
    "therapeutic_group_keys = dict (zip(source_base['name_of_analyte'], source_base['therapeutic_group_english']))\n",
    "therapeutic_group_keys.update({'acetaminophen':'analgesics',\n",
    "                              'paracetamol':'analgesics',\n",
    "                              'aspirin':'nonsteroidal anti-inflammatory drugs',\n",
    "                              'acetylsalicylic acid':'nonsteroidal anti-inflammatory drugs', \n",
    "                              'clofibric acid': 'lipid-lowering drugs',\n",
    "                              'salicylic acid': 'skin care',\n",
    "                              'gemfibrocil':'lipid-lowering drugs', \n",
    "                              'flufenamic acid': 'nonsteroidal anti-inflammatory drugs',\n",
    "                              'caffeine':'other'\n",
    "                              })\n",
    "\n",
    "#setting a dictionary with pair key:value == name of analyte:target group\n",
    "target_group_keys = dict (zip(source_base['name_of_analyte'], source_base['target_group']))\n",
    "target_group_keys.update({'acetaminophen':'human',\n",
    "                          'paracetamol':'human',\n",
    "                          'aspirin':'human and veterinary',\n",
    "                          'acetylsalicylic acid':'human and veterinary',\n",
    "                          'clofibric acid': 'human',\n",
    "                          'salicylic acid': 'human',\n",
    "                          'gemfibrocil':'human',\n",
    "                          'flufenamic acid': 'human',\n",
    "                          'caffeine':'human'})"
   ]
  },
  {
   "cell_type": "markdown",
   "id": "d15997dc-5b00-4206-8ec9-1fd613d736f7",
   "metadata": {
    "id": "d15997dc-5b00-4206-8ec9-1fd613d736f7"
   },
   "source": [
    "## List of mentioned pharmaceuticals in the abstract (unique)"
   ]
  },
  {
   "cell_type": "markdown",
   "id": "e0f0e694-79f9-481c-8546-8536a8de6abb",
   "metadata": {
    "id": "e0f0e694-79f9-481c-8546-8536a8de6abb"
   },
   "source": [
    "We then use the ``source list`` to search unique mentions of analytes in the abstract texts to extract occurring words and estimate their occurrence level. The search is based on the unique mention of analyte in the abstracts, new column ``pharmaceuticals`` in ``df`` contains lists of unique words, even if they can be mentioned multiple times in the corresponding abstract."
   ]
  },
  {
   "cell_type": "code",
   "execution_count": 15,
   "id": "2fed365f-67c7-4ce7-bf8c-242d408b10e2",
   "metadata": {
    "id": "2fed365f-67c7-4ce7-bf8c-242d408b10e2"
   },
   "outputs": [],
   "source": [
    "#additional words and phrases for search\n",
    "add_words_list = ['acetaminophen',\n",
    "                 'paracetamol',\n",
    "                 'aspirin',\n",
    "                 'acetylsalicylic acid',\n",
    "                 'clofibric acid',\n",
    "                 'salicylic acid',\n",
    "                 'gemfibrocil',\n",
    "                 'flufenamic acid',\n",
    "                 'caffeine']\n",
    "\n",
    "source_list = source_list+add_words_list\n",
    "\n",
    "\n",
    "df['pharmaceuticals'] = 'NaN' #new column\n",
    "\n",
    "#filling new column with unique words mathching with source list from UBA\n",
    "for i in range(len(df)):\n",
    "    # select i row in df\n",
    "    select = df.iloc[i,:]\n",
    "    # select only Abstract from row\n",
    "    abstract = select['Abstract']\n",
    "    # sometimes abstract it's NaN, in such case return NaN \n",
    "    if type(abstract) != str:\n",
    "        df.at[i, \"pharmaceuticals\"] = 'NaN'\n",
    "    else:\n",
    "        # empty set to collect unique names of pharmaceuticals\n",
    "        list_of_target_words = set() #for unique values\n",
    "        for item in source_list:\n",
    "            # if pharmaceutical not find in source_list - > continue to next \n",
    "            if abstract.find(item)==-1:\n",
    "                continue\n",
    "            else:\n",
    "                list_of_target_words.add(item)\n",
    "        #for unique sorted names\n",
    "        df.at[i, \"pharmaceuticals\"] = list(sorted(list_of_target_words)) "
   ]
  },
  {
   "cell_type": "code",
   "execution_count": 16,
   "id": "51e21a27-94ed-4441-acc3-9f287b29d8d9",
   "metadata": {
    "colab": {
     "base_uri": "https://localhost:8080/"
    },
    "id": "51e21a27-94ed-4441-acc3-9f287b29d8d9",
    "outputId": "3ebcd1ac-07ad-41b4-9dcc-fcb55aeb94ae"
   },
   "outputs": [
    {
     "data": {
      "text/plain": [
       "0    [acetaminophen, aspirin, carbamazepine, chlorp...\n",
       "1             [amprolium, carbadox, monensin, tylosin]\n",
       "2    [carbamazepine, clindamycin, diltiazem, diphen...\n",
       "3    [carbamazepine, fluoxetine, naproxen, sulfamet...\n",
       "4                                                   []\n",
       "5                            [caffeine, carbamazepine]\n",
       "6    [ciprofloxacin, clofibric acid, diclofenac, ib...\n",
       "7    [acetaminophen, carbamazepine, codeine, ibupro...\n",
       "8    [bezafibrate, clarithromycin, clindamycin, dic...\n",
       "9                                                   []\n",
       "Name: pharmaceuticals, dtype: object"
      ]
     },
     "execution_count": 16,
     "metadata": {},
     "output_type": "execute_result"
    }
   ],
   "source": [
    "#look at the result -- new column in the df dataset \n",
    "df.pharmaceuticals.head(10)\n"
   ]
  },
  {
   "cell_type": "code",
   "execution_count": 17,
   "id": "7aa451ef-ef26-409b-9c08-99b94ae2e611",
   "metadata": {
    "id": "7aa451ef-ef26-409b-9c08-99b94ae2e611"
   },
   "outputs": [],
   "source": [
    "#skipped step: manual catching of the missed PPCP names on a random sample of length 20\n",
    "#random_sample = df_analysis.iloc[:,[6,32]].sample(20).reset_index(drop=True)\n",
    "\n",
    "#for i, row in random_sample.iterrows():\n",
    "#    print(row['pharmaceuticals'])\n",
    "#    print(row['Abstract'])\n",
    "#    print() "
   ]
  },
  {
   "cell_type": "code",
   "execution_count": 18,
   "id": "9c453442-d229-4078-9f1c-008c8b86dfb0",
   "metadata": {
    "colab": {
     "base_uri": "https://localhost:8080/"
    },
    "id": "9c453442-d229-4078-9f1c-008c8b86dfb0",
    "outputId": "30083e9e-9a20-43f1-a75d-d0a71364bb3f"
   },
   "outputs": [
    {
     "name": "stdout",
     "output_type": "stream",
     "text": [
      "30.8 % of initial entries of new column are not 0 and non-NaN\n"
     ]
    }
   ],
   "source": [
    "#check how many entries of new column \"pharmaceuticals\" are not 0 and not NaNs\n",
    "print(round(100*(len(df[df[\"pharmaceuticals\"].str.len(\n",
    ") != 0])+len(df.query(\"pharmaceuticals == 'NaN'\")))/len(df),1), '% of initial entries of new column are not 0 and non-NaN')"
   ]
  },
  {
   "cell_type": "markdown",
   "id": "4958125b-3e5e-40f6-acf7-034e10944dcb",
   "metadata": {
    "id": "4958125b-3e5e-40f6-acf7-034e10944dcb"
   },
   "source": [
    "## Final dataframe for the analysis"
   ]
  },
  {
   "cell_type": "markdown",
   "id": "a5ad2706-3a31-4b06-972d-79f21ae35762",
   "metadata": {
    "id": "a5ad2706-3a31-4b06-972d-79f21ae35762"
   },
   "source": [
    "For the further work we will use new dataframe ``df_analysis``"
   ]
  },
  {
   "cell_type": "code",
   "execution_count": 19,
   "id": "2f5d7192-447f-4078-a895-a3475dd510c2",
   "metadata": {
    "colab": {
     "base_uri": "https://localhost:8080/"
    },
    "id": "2f5d7192-447f-4078-a895-a3475dd510c2",
    "outputId": "5cb88771-12d1-453e-af8f-6bc2fa0cdd19"
   },
   "outputs": [
    {
     "data": {
      "text/plain": [
       "843"
      ]
     },
     "execution_count": 19,
     "metadata": {},
     "output_type": "execute_result"
    }
   ],
   "source": [
    "#removing NaN and zero data \n",
    "df = df.query(\"pharmaceuticals != 'NaN'\")\n",
    "\n",
    "df_analysis = df[df[\"pharmaceuticals\"].str.len() != 0]\n",
    "len(df_analysis)"
   ]
  },
  {
   "cell_type": "code",
   "execution_count": 20,
   "id": "2e2e9c50-9a12-452f-a128-c0ffa097e95e",
   "metadata": {
    "colab": {
     "base_uri": "https://localhost:8080/",
     "height": 445
    },
    "id": "2e2e9c50-9a12-452f-a128-c0ffa097e95e",
    "outputId": "ec6d89d5-affd-4d5c-d9ac-92901b39abfe"
   },
   "outputs": [
    {
     "data": {
      "text/html": [
       "<div>\n",
       "<style scoped>\n",
       "    .dataframe tbody tr th:only-of-type {\n",
       "        vertical-align: middle;\n",
       "    }\n",
       "\n",
       "    .dataframe tbody tr th {\n",
       "        vertical-align: top;\n",
       "    }\n",
       "\n",
       "    .dataframe thead th {\n",
       "        text-align: right;\n",
       "    }\n",
       "</style>\n",
       "<table border=\"1\" class=\"dataframe\">\n",
       "  <thead>\n",
       "    <tr style=\"text-align: right;\">\n",
       "      <th></th>\n",
       "      <th>Rank</th>\n",
       "      <th>Publication ID</th>\n",
       "      <th>DOI</th>\n",
       "      <th>PMID</th>\n",
       "      <th>PMCID</th>\n",
       "      <th>Title</th>\n",
       "      <th>Abstract</th>\n",
       "      <th>Acknowledgements</th>\n",
       "      <th>Source title</th>\n",
       "      <th>Anthology title</th>\n",
       "      <th>...</th>\n",
       "      <th>Authors Affiliations</th>\n",
       "      <th>Times cited</th>\n",
       "      <th>Recent citations</th>\n",
       "      <th>RCR</th>\n",
       "      <th>FCR</th>\n",
       "      <th>Source Linkout</th>\n",
       "      <th>Dimensions URL</th>\n",
       "      <th>FOR (ANZSRC) Categories</th>\n",
       "      <th>Sustainable Development Goals</th>\n",
       "      <th>pharmaceuticals</th>\n",
       "    </tr>\n",
       "  </thead>\n",
       "  <tbody>\n",
       "    <tr>\n",
       "      <th>0</th>\n",
       "      <td>3405</td>\n",
       "      <td>pub.1034753825</td>\n",
       "      <td>10.1002/etc.487</td>\n",
       "      <td>21312249.0</td>\n",
       "      <td>nan</td>\n",
       "      <td>influence of sewage and pharmaceuticals on soi...</td>\n",
       "      <td>although sewage effluent application to land i...</td>\n",
       "      <td>we thank catriona macdonald and esr for advice...</td>\n",
       "      <td>environmental toxicology and chemistry</td>\n",
       "      <td>nan</td>\n",
       "      <td>...</td>\n",
       "      <td>gielen, gerty j. h. p. (scion); clinton, peter...</td>\n",
       "      <td>14</td>\n",
       "      <td>3</td>\n",
       "      <td>0.43</td>\n",
       "      <td>1.47</td>\n",
       "      <td>nan</td>\n",
       "      <td>https://app.dimensions.ai/details/publication/...</td>\n",
       "      <td>0605 microbiology; 0503 soil sciences; 05 envi...</td>\n",
       "      <td>nan</td>\n",
       "      <td>[acetaminophen, aspirin, carbamazepine, chlorp...</td>\n",
       "    </tr>\n",
       "    <tr>\n",
       "      <th>1</th>\n",
       "      <td>3376</td>\n",
       "      <td>pub.1069010127</td>\n",
       "      <td>10.2134/jeq2009.0090</td>\n",
       "      <td>20830908.0</td>\n",
       "      <td>nan</td>\n",
       "      <td>selected veterinary pharmaceuticals in agricul...</td>\n",
       "      <td>veterinary pharmaceuticals are commonly admini...</td>\n",
       "      <td>this study was supported in part by agricultur...</td>\n",
       "      <td>journal of environmental quality</td>\n",
       "      <td>nan</td>\n",
       "      <td>...</td>\n",
       "      <td>song, wenlu (michigan state university); ding,...</td>\n",
       "      <td>48</td>\n",
       "      <td>3</td>\n",
       "      <td>1.74</td>\n",
       "      <td>4.91</td>\n",
       "      <td>nan</td>\n",
       "      <td>https://app.dimensions.ai/details/publication/...</td>\n",
       "      <td>0503 soil sciences; 05 environmental sciences</td>\n",
       "      <td>nan</td>\n",
       "      <td>[amprolium, carbadox, monensin, tylosin]</td>\n",
       "    </tr>\n",
       "    <tr>\n",
       "      <th>2</th>\n",
       "      <td>3320</td>\n",
       "      <td>pub.1026757075</td>\n",
       "      <td>10.1007/s00244-010-9500-y</td>\n",
       "      <td>20340015.0</td>\n",
       "      <td>nan</td>\n",
       "      <td>dissipation and leaching potential of selected...</td>\n",
       "      <td>biosolids land application is an important pat...</td>\n",
       "      <td>this research was funded by the usda-csrees pr...</td>\n",
       "      <td>archives of environmental contamination and to...</td>\n",
       "      <td>nan</td>\n",
       "      <td>...</td>\n",
       "      <td>wu, chenxi (university of toledo); spongberg, ...</td>\n",
       "      <td>38</td>\n",
       "      <td>4</td>\n",
       "      <td>1.2</td>\n",
       "      <td>3.97</td>\n",
       "      <td>nan</td>\n",
       "      <td>https://app.dimensions.ai/details/publication/...</td>\n",
       "      <td>0503 soil sciences; 05 environmental sciences</td>\n",
       "      <td>nan</td>\n",
       "      <td>[carbamazepine, clindamycin, diltiazem, diphen...</td>\n",
       "    </tr>\n",
       "  </tbody>\n",
       "</table>\n",
       "<p>3 rows × 33 columns</p>\n",
       "</div>"
      ],
      "text/plain": [
       "   Rank  Publication ID                        DOI        PMID PMCID  \\\n",
       "0  3405  pub.1034753825            10.1002/etc.487  21312249.0   nan   \n",
       "1  3376  pub.1069010127       10.2134/jeq2009.0090  20830908.0   nan   \n",
       "2  3320  pub.1026757075  10.1007/s00244-010-9500-y  20340015.0   nan   \n",
       "\n",
       "                                               Title  \\\n",
       "0  influence of sewage and pharmaceuticals on soi...   \n",
       "1  selected veterinary pharmaceuticals in agricul...   \n",
       "2  dissipation and leaching potential of selected...   \n",
       "\n",
       "                                            Abstract  \\\n",
       "0  although sewage effluent application to land i...   \n",
       "1  veterinary pharmaceuticals are commonly admini...   \n",
       "2  biosolids land application is an important pat...   \n",
       "\n",
       "                                    Acknowledgements  \\\n",
       "0  we thank catriona macdonald and esr for advice...   \n",
       "1  this study was supported in part by agricultur...   \n",
       "2  this research was funded by the usda-csrees pr...   \n",
       "\n",
       "                                        Source title Anthology title  ...  \\\n",
       "0             environmental toxicology and chemistry             nan  ...   \n",
       "1                   journal of environmental quality             nan  ...   \n",
       "2  archives of environmental contamination and to...             nan  ...   \n",
       "\n",
       "                                Authors Affiliations Times cited  \\\n",
       "0  gielen, gerty j. h. p. (scion); clinton, peter...          14   \n",
       "1  song, wenlu (michigan state university); ding,...          48   \n",
       "2  wu, chenxi (university of toledo); spongberg, ...          38   \n",
       "\n",
       "   Recent citations   RCR   FCR Source Linkout  \\\n",
       "0                 3  0.43  1.47            nan   \n",
       "1                 3  1.74  4.91            nan   \n",
       "2                 4   1.2  3.97            nan   \n",
       "\n",
       "                                      Dimensions URL  \\\n",
       "0  https://app.dimensions.ai/details/publication/...   \n",
       "1  https://app.dimensions.ai/details/publication/...   \n",
       "2  https://app.dimensions.ai/details/publication/...   \n",
       "\n",
       "                             FOR (ANZSRC) Categories  \\\n",
       "0  0605 microbiology; 0503 soil sciences; 05 envi...   \n",
       "1      0503 soil sciences; 05 environmental sciences   \n",
       "2      0503 soil sciences; 05 environmental sciences   \n",
       "\n",
       "  Sustainable Development Goals  \\\n",
       "0                           nan   \n",
       "1                           nan   \n",
       "2                           nan   \n",
       "\n",
       "                                     pharmaceuticals  \n",
       "0  [acetaminophen, aspirin, carbamazepine, chlorp...  \n",
       "1           [amprolium, carbadox, monensin, tylosin]  \n",
       "2  [carbamazepine, clindamycin, diltiazem, diphen...  \n",
       "\n",
       "[3 rows x 33 columns]"
      ]
     },
     "metadata": {},
     "output_type": "display_data"
    }
   ],
   "source": [
    "#lowercase for main columns \n",
    "df_analysis = df_analysis.apply(lambda x: x.astype(str).str.lower(\n",
    ") if x.name != 'pharmaceuticals' and x.name != 'Times cited' and x.name != 'PubYear' else x )\n",
    "\n",
    "display(df_analysis.head(3))\n",
    "#print(df_analysis.info())"
   ]
  },
  {
   "cell_type": "markdown",
   "id": "01ad2428-3bd8-4556-b8b4-d7d160da6091",
   "metadata": {
    "id": "01ad2428-3bd8-4556-b8b4-d7d160da6091"
   },
   "source": [
    "### Manual excluding of the irrelevant environmental matrix (not soils)"
   ]
  },
  {
   "cell_type": "code",
   "execution_count": 21,
   "id": "d6f1d3d6-b163-4077-ae4e-ca6ef64c3fa5",
   "metadata": {
    "id": "d6f1d3d6-b163-4077-ae4e-ca6ef64c3fa5"
   },
   "outputs": [],
   "source": [
    "#check the list of publications on the scope: is the paper really not about the groundwater,\n",
    "#and about soils themselves\n",
    "#df_analysis[df_analysis.Title.str.contains(\"groundwater\")].to_csv('groundwater_papers.csv')"
   ]
  },
  {
   "cell_type": "code",
   "execution_count": 22,
   "id": "791ce9be-eb24-48a2-a2a7-727fead98f47",
   "metadata": {
    "colab": {
     "base_uri": "https://localhost:8080/",
     "height": 143
    },
    "id": "791ce9be-eb24-48a2-a2a7-727fead98f47",
    "outputId": "9bd4e966-6970-4bb8-ce50-595a477ca76d"
   },
   "outputs": [
    {
     "data": {
      "text/html": [
       "<div>\n",
       "<style scoped>\n",
       "    .dataframe tbody tr th:only-of-type {\n",
       "        vertical-align: middle;\n",
       "    }\n",
       "\n",
       "    .dataframe tbody tr th {\n",
       "        vertical-align: top;\n",
       "    }\n",
       "\n",
       "    .dataframe thead th {\n",
       "        text-align: right;\n",
       "    }\n",
       "</style>\n",
       "<table border=\"1\" class=\"dataframe\">\n",
       "  <thead>\n",
       "    <tr style=\"text-align: right;\">\n",
       "      <th></th>\n",
       "      <th>DOI</th>\n",
       "      <th>Check</th>\n",
       "    </tr>\n",
       "  </thead>\n",
       "  <tbody>\n",
       "    <tr>\n",
       "      <th>0</th>\n",
       "      <td>10.1016/j.chemosphere.2011.12.018</td>\n",
       "      <td>ok</td>\n",
       "    </tr>\n",
       "    <tr>\n",
       "      <th>1</th>\n",
       "      <td>10.2166/wst.2012.290</td>\n",
       "      <td>ok</td>\n",
       "    </tr>\n",
       "    <tr>\n",
       "      <th>2</th>\n",
       "      <td>10.1016/j.scitotenv.2012.06.031</td>\n",
       "      <td>exclude</td>\n",
       "    </tr>\n",
       "  </tbody>\n",
       "</table>\n",
       "</div>"
      ],
      "text/plain": [
       "                                 DOI    Check\n",
       "0  10.1016/j.chemosphere.2011.12.018       ok\n",
       "1               10.2166/wst.2012.290       ok\n",
       "2    10.1016/j.scitotenv.2012.06.031  exclude"
      ]
     },
     "execution_count": 22,
     "metadata": {},
     "output_type": "execute_result"
    }
   ],
   "source": [
    "FOLDER = './data/'\n",
    "path_3 = os.path.join(FOLDER, 'groundwater_papers_manually_checked.csv')\n",
    "doi_to_remove = pd.read_csv(path_3)\n",
    "doi_to_remove.head(3)"
   ]
  },
  {
   "cell_type": "code",
   "execution_count": 23,
   "id": "c4a87bd6-f148-4409-a934-391048504204",
   "metadata": {
    "colab": {
     "base_uri": "https://localhost:8080/"
    },
    "id": "c4a87bd6-f148-4409-a934-391048504204",
    "outputId": "47972695-41b6-4fc4-e6ad-e3adf9146fe0"
   },
   "outputs": [
    {
     "data": {
      "text/plain": [
       "828"
      ]
     },
     "execution_count": 23,
     "metadata": {},
     "output_type": "execute_result"
    }
   ],
   "source": [
    "#excluding of irrelevant publications\n",
    "doi_exclude = doi_to_remove.query(\"Check == 'exclude'\")['DOI'].to_list()\n",
    "df_analysis = df_analysis.query(\"DOI != @doi_exclude\")\n",
    "#number of final entries\n",
    "len(df_analysis)"
   ]
  },
  {
   "cell_type": "code",
   "execution_count": 24,
   "id": "2a2e796e-bf22-42f1-91b7-ab28fb8b08dd",
   "metadata": {
    "colab": {
     "base_uri": "https://localhost:8080/",
     "height": 1000
    },
    "id": "2a2e796e-bf22-42f1-91b7-ab28fb8b08dd",
    "outputId": "3e4416c6-bc31-4380-89d5-8c41a0f9e98b"
   },
   "outputs": [
    {
     "data": {
      "text/html": [
       "<div>\n",
       "<style scoped>\n",
       "    .dataframe tbody tr th:only-of-type {\n",
       "        vertical-align: middle;\n",
       "    }\n",
       "\n",
       "    .dataframe tbody tr th {\n",
       "        vertical-align: top;\n",
       "    }\n",
       "\n",
       "    .dataframe thead th {\n",
       "        text-align: right;\n",
       "    }\n",
       "</style>\n",
       "<table border=\"1\" class=\"dataframe\">\n",
       "  <thead>\n",
       "    <tr style=\"text-align: right;\">\n",
       "      <th></th>\n",
       "      <th>Rank</th>\n",
       "      <th>Publication ID</th>\n",
       "      <th>DOI</th>\n",
       "      <th>PMID</th>\n",
       "      <th>PMCID</th>\n",
       "      <th>Title</th>\n",
       "      <th>Abstract</th>\n",
       "      <th>Acknowledgements</th>\n",
       "      <th>Source title</th>\n",
       "      <th>Anthology title</th>\n",
       "      <th>...</th>\n",
       "      <th>Authors Affiliations</th>\n",
       "      <th>Times cited</th>\n",
       "      <th>Recent citations</th>\n",
       "      <th>RCR</th>\n",
       "      <th>FCR</th>\n",
       "      <th>Source Linkout</th>\n",
       "      <th>Dimensions URL</th>\n",
       "      <th>FOR (ANZSRC) Categories</th>\n",
       "      <th>Sustainable Development Goals</th>\n",
       "      <th>pharmaceuticals</th>\n",
       "    </tr>\n",
       "  </thead>\n",
       "  <tbody>\n",
       "    <tr>\n",
       "      <th>0</th>\n",
       "      <td>3405</td>\n",
       "      <td>pub.1034753825</td>\n",
       "      <td>10.1002/etc.487</td>\n",
       "      <td>21312249.0</td>\n",
       "      <td>nan</td>\n",
       "      <td>influence of sewage and pharmaceuticals on soi...</td>\n",
       "      <td>although sewage effluent application to land i...</td>\n",
       "      <td>we thank catriona macdonald and esr for advice...</td>\n",
       "      <td>environmental toxicology and chemistry</td>\n",
       "      <td>nan</td>\n",
       "      <td>...</td>\n",
       "      <td>gielen, gerty j. h. p. (scion); clinton, peter...</td>\n",
       "      <td>14</td>\n",
       "      <td>3</td>\n",
       "      <td>0.43</td>\n",
       "      <td>1.47</td>\n",
       "      <td>nan</td>\n",
       "      <td>https://app.dimensions.ai/details/publication/...</td>\n",
       "      <td>0605 microbiology; 0503 soil sciences; 05 envi...</td>\n",
       "      <td>nan</td>\n",
       "      <td>[acetaminophen, aspirin, carbamazepine, chlorp...</td>\n",
       "    </tr>\n",
       "    <tr>\n",
       "      <th>1</th>\n",
       "      <td>3376</td>\n",
       "      <td>pub.1069010127</td>\n",
       "      <td>10.2134/jeq2009.0090</td>\n",
       "      <td>20830908.0</td>\n",
       "      <td>nan</td>\n",
       "      <td>selected veterinary pharmaceuticals in agricul...</td>\n",
       "      <td>veterinary pharmaceuticals are commonly admini...</td>\n",
       "      <td>this study was supported in part by agricultur...</td>\n",
       "      <td>journal of environmental quality</td>\n",
       "      <td>nan</td>\n",
       "      <td>...</td>\n",
       "      <td>song, wenlu (michigan state university); ding,...</td>\n",
       "      <td>48</td>\n",
       "      <td>3</td>\n",
       "      <td>1.74</td>\n",
       "      <td>4.91</td>\n",
       "      <td>nan</td>\n",
       "      <td>https://app.dimensions.ai/details/publication/...</td>\n",
       "      <td>0503 soil sciences; 05 environmental sciences</td>\n",
       "      <td>nan</td>\n",
       "      <td>[amprolium, carbadox, monensin, tylosin]</td>\n",
       "    </tr>\n",
       "    <tr>\n",
       "      <th>2</th>\n",
       "      <td>3320</td>\n",
       "      <td>pub.1026757075</td>\n",
       "      <td>10.1007/s00244-010-9500-y</td>\n",
       "      <td>20340015.0</td>\n",
       "      <td>nan</td>\n",
       "      <td>dissipation and leaching potential of selected...</td>\n",
       "      <td>biosolids land application is an important pat...</td>\n",
       "      <td>this research was funded by the usda-csrees pr...</td>\n",
       "      <td>archives of environmental contamination and to...</td>\n",
       "      <td>nan</td>\n",
       "      <td>...</td>\n",
       "      <td>wu, chenxi (university of toledo); spongberg, ...</td>\n",
       "      <td>38</td>\n",
       "      <td>4</td>\n",
       "      <td>1.2</td>\n",
       "      <td>3.97</td>\n",
       "      <td>nan</td>\n",
       "      <td>https://app.dimensions.ai/details/publication/...</td>\n",
       "      <td>0503 soil sciences; 05 environmental sciences</td>\n",
       "      <td>nan</td>\n",
       "      <td>[carbamazepine, clindamycin, diltiazem, diphen...</td>\n",
       "    </tr>\n",
       "    <tr>\n",
       "      <th>3</th>\n",
       "      <td>3304</td>\n",
       "      <td>pub.1015133810</td>\n",
       "      <td>10.1897/08-657.1</td>\n",
       "      <td>19580336.0</td>\n",
       "      <td>nan</td>\n",
       "      <td>factors affecting the degradation of pharmaceu...</td>\n",
       "      <td>pharmaceuticals may be released to the soil en...</td>\n",
       "      <td>the development of this paper was funded by th...</td>\n",
       "      <td>environmental toxicology and chemistry</td>\n",
       "      <td>nan</td>\n",
       "      <td>...</td>\n",
       "      <td>monteiro, sara c. (university of york; fera sc...</td>\n",
       "      <td>133</td>\n",
       "      <td>14</td>\n",
       "      <td>4.51</td>\n",
       "      <td>13.63</td>\n",
       "      <td>https://setac.onlinelibrary.wiley.com/doi/pdfd...</td>\n",
       "      <td>https://app.dimensions.ai/details/publication/...</td>\n",
       "      <td>0503 soil sciences; 05 environmental sciences;...</td>\n",
       "      <td>nan</td>\n",
       "      <td>[carbamazepine, fluoxetine, naproxen, sulfamet...</td>\n",
       "    </tr>\n",
       "    <tr>\n",
       "      <th>4</th>\n",
       "      <td>3174</td>\n",
       "      <td>pub.1036761509</td>\n",
       "      <td>10.1016/j.chemosphere.2008.09.048</td>\n",
       "      <td>18996568.0</td>\n",
       "      <td>nan</td>\n",
       "      <td>factors impacting on pharmaceutical leaching f...</td>\n",
       "      <td>sewage effluent application to land is a treat...</td>\n",
       "      <td>we thank the new zealand foundation for resear...</td>\n",
       "      <td>chemosphere</td>\n",
       "      <td>nan</td>\n",
       "      <td>...</td>\n",
       "      <td>gielen, gerty j.h.p. (scion); van den heuvel, ...</td>\n",
       "      <td>44</td>\n",
       "      <td>5</td>\n",
       "      <td>1.0</td>\n",
       "      <td>3.97</td>\n",
       "      <td>nan</td>\n",
       "      <td>https://app.dimensions.ai/details/publication/...</td>\n",
       "      <td>0503 soil sciences; 05 environmental sciences</td>\n",
       "      <td>nan</td>\n",
       "      <td>[caffeine, carbamazepine]</td>\n",
       "    </tr>\n",
       "    <tr>\n",
       "      <th>5</th>\n",
       "      <td>3129</td>\n",
       "      <td>pub.1041971931</td>\n",
       "      <td>10.1007/s00216-011-4826-5</td>\n",
       "      <td>21416164.0</td>\n",
       "      <td>nan</td>\n",
       "      <td>assessment of the occurrence and distribution ...</td>\n",
       "      <td>the distribution of pharmaceuticals between wa...</td>\n",
       "      <td>this work has been supported by the spanish mi...</td>\n",
       "      <td>analytical and bioanalytical chemistry</td>\n",
       "      <td>nan</td>\n",
       "      <td>...</td>\n",
       "      <td>vazquez-roig, pablo (university of valencia); ...</td>\n",
       "      <td>74</td>\n",
       "      <td>9</td>\n",
       "      <td>3.08</td>\n",
       "      <td>8.9</td>\n",
       "      <td>nan</td>\n",
       "      <td>https://app.dimensions.ai/details/publication/...</td>\n",
       "      <td>03 chemical sciences; 0301 analytical chemistry</td>\n",
       "      <td>nan</td>\n",
       "      <td>[ciprofloxacin, clofibric acid, diclofenac, ib...</td>\n",
       "    </tr>\n",
       "    <tr>\n",
       "      <th>6</th>\n",
       "      <td>3107</td>\n",
       "      <td>pub.1005223864</td>\n",
       "      <td>10.1016/j.scitotenv.2012.08.036</td>\n",
       "      <td>23021792.0</td>\n",
       "      <td>nan</td>\n",
       "      <td>risk assessment on the presence of pharmaceuti...</td>\n",
       "      <td>this study is focused on the occurrence of pha...</td>\n",
       "      <td>this work has been supported by the spanish mi...</td>\n",
       "      <td>the science of the total environment</td>\n",
       "      <td>nan</td>\n",
       "      <td>...</td>\n",
       "      <td>vazquez-roig, pablo (university of valencia); ...</td>\n",
       "      <td>142</td>\n",
       "      <td>30</td>\n",
       "      <td>5.78</td>\n",
       "      <td>16.17</td>\n",
       "      <td>nan</td>\n",
       "      <td>https://app.dimensions.ai/details/publication/...</td>\n",
       "      <td>09 engineering; 0503 soil sciences; 03 chemica...</td>\n",
       "      <td>nan</td>\n",
       "      <td>[acetaminophen, carbamazepine, codeine, ibupro...</td>\n",
       "    </tr>\n",
       "    <tr>\n",
       "      <th>7</th>\n",
       "      <td>3097</td>\n",
       "      <td>pub.1069010134</td>\n",
       "      <td>10.2134/jeq2009.0105</td>\n",
       "      <td>20830907.0</td>\n",
       "      <td>nan</td>\n",
       "      <td>transport of pharmaceuticals in columns of a w...</td>\n",
       "      <td>the irrigation or agricultural land with waste...</td>\n",
       "      <td>j. siemens, g. huschek, and g. walshe conducte...</td>\n",
       "      <td>journal of environmental quality</td>\n",
       "      <td>nan</td>\n",
       "      <td>...</td>\n",
       "      <td>siemens, jan (university of bonn); huschek, ge...</td>\n",
       "      <td>28</td>\n",
       "      <td>4</td>\n",
       "      <td>0.92</td>\n",
       "      <td>2.92</td>\n",
       "      <td>nan</td>\n",
       "      <td>https://app.dimensions.ai/details/publication/...</td>\n",
       "      <td>0503 soil sciences; 05 environmental sciences</td>\n",
       "      <td>nan</td>\n",
       "      <td>[bezafibrate, clarithromycin, clindamycin, dic...</td>\n",
       "    </tr>\n",
       "    <tr>\n",
       "      <th>8</th>\n",
       "      <td>3072</td>\n",
       "      <td>pub.1038033252</td>\n",
       "      <td>10.1016/j.talanta.2011.11.054</td>\n",
       "      <td>22265554.0</td>\n",
       "      <td>nan</td>\n",
       "      <td>ultrasonic or accelerated solvent extraction f...</td>\n",
       "      <td>different veterinary pharmaceuticals are used ...</td>\n",
       "      <td>this project was financially supported by the ...</td>\n",
       "      <td>talanta</td>\n",
       "      <td>nan</td>\n",
       "      <td>...</td>\n",
       "      <td>chitescu, carmen lidia (\"dunarea de jos\" unive...</td>\n",
       "      <td>49</td>\n",
       "      <td>7</td>\n",
       "      <td>1.83</td>\n",
       "      <td>5.77</td>\n",
       "      <td>nan</td>\n",
       "      <td>https://app.dimensions.ai/details/publication/...</td>\n",
       "      <td>03 chemical sciences; 0301 analytical chemistry</td>\n",
       "      <td>nan</td>\n",
       "      <td>[oxytetracycline, tetracycline]</td>\n",
       "    </tr>\n",
       "    <tr>\n",
       "      <th>9</th>\n",
       "      <td>3072</td>\n",
       "      <td>pub.1034164273</td>\n",
       "      <td>10.1016/j.talanta.2009.01.035</td>\n",
       "      <td>19269487.0</td>\n",
       "      <td>nan</td>\n",
       "      <td>the analysis of a group of acidic pharmaceutic...</td>\n",
       "      <td>the analysis of pharmaceuticals and potential ...</td>\n",
       "      <td>we would like to acknowledge the secretaría de...</td>\n",
       "      <td>talanta</td>\n",
       "      <td>nan</td>\n",
       "      <td>...</td>\n",
       "      <td>durán-alvarez, juan c. (national autonomous un...</td>\n",
       "      <td>118</td>\n",
       "      <td>14</td>\n",
       "      <td>3.97</td>\n",
       "      <td>11.02</td>\n",
       "      <td>nan</td>\n",
       "      <td>https://app.dimensions.ai/details/publication/...</td>\n",
       "      <td>03 chemical sciences; 0301 analytical chemistry</td>\n",
       "      <td>nan</td>\n",
       "      <td>[carbamazepine, estradiol, estrone]</td>\n",
       "    </tr>\n",
       "  </tbody>\n",
       "</table>\n",
       "<p>10 rows × 33 columns</p>\n",
       "</div>"
      ],
      "text/plain": [
       "   Rank  Publication ID                                DOI        PMID PMCID  \\\n",
       "0  3405  pub.1034753825                    10.1002/etc.487  21312249.0   nan   \n",
       "1  3376  pub.1069010127               10.2134/jeq2009.0090  20830908.0   nan   \n",
       "2  3320  pub.1026757075          10.1007/s00244-010-9500-y  20340015.0   nan   \n",
       "3  3304  pub.1015133810                   10.1897/08-657.1  19580336.0   nan   \n",
       "4  3174  pub.1036761509  10.1016/j.chemosphere.2008.09.048  18996568.0   nan   \n",
       "5  3129  pub.1041971931          10.1007/s00216-011-4826-5  21416164.0   nan   \n",
       "6  3107  pub.1005223864    10.1016/j.scitotenv.2012.08.036  23021792.0   nan   \n",
       "7  3097  pub.1069010134               10.2134/jeq2009.0105  20830907.0   nan   \n",
       "8  3072  pub.1038033252      10.1016/j.talanta.2011.11.054  22265554.0   nan   \n",
       "9  3072  pub.1034164273      10.1016/j.talanta.2009.01.035  19269487.0   nan   \n",
       "\n",
       "                                               Title  \\\n",
       "0  influence of sewage and pharmaceuticals on soi...   \n",
       "1  selected veterinary pharmaceuticals in agricul...   \n",
       "2  dissipation and leaching potential of selected...   \n",
       "3  factors affecting the degradation of pharmaceu...   \n",
       "4  factors impacting on pharmaceutical leaching f...   \n",
       "5  assessment of the occurrence and distribution ...   \n",
       "6  risk assessment on the presence of pharmaceuti...   \n",
       "7  transport of pharmaceuticals in columns of a w...   \n",
       "8  ultrasonic or accelerated solvent extraction f...   \n",
       "9  the analysis of a group of acidic pharmaceutic...   \n",
       "\n",
       "                                            Abstract  \\\n",
       "0  although sewage effluent application to land i...   \n",
       "1  veterinary pharmaceuticals are commonly admini...   \n",
       "2  biosolids land application is an important pat...   \n",
       "3  pharmaceuticals may be released to the soil en...   \n",
       "4  sewage effluent application to land is a treat...   \n",
       "5  the distribution of pharmaceuticals between wa...   \n",
       "6  this study is focused on the occurrence of pha...   \n",
       "7  the irrigation or agricultural land with waste...   \n",
       "8  different veterinary pharmaceuticals are used ...   \n",
       "9  the analysis of pharmaceuticals and potential ...   \n",
       "\n",
       "                                    Acknowledgements  \\\n",
       "0  we thank catriona macdonald and esr for advice...   \n",
       "1  this study was supported in part by agricultur...   \n",
       "2  this research was funded by the usda-csrees pr...   \n",
       "3  the development of this paper was funded by th...   \n",
       "4  we thank the new zealand foundation for resear...   \n",
       "5  this work has been supported by the spanish mi...   \n",
       "6  this work has been supported by the spanish mi...   \n",
       "7  j. siemens, g. huschek, and g. walshe conducte...   \n",
       "8  this project was financially supported by the ...   \n",
       "9  we would like to acknowledge the secretaría de...   \n",
       "\n",
       "                                        Source title Anthology title  ...  \\\n",
       "0             environmental toxicology and chemistry             nan  ...   \n",
       "1                   journal of environmental quality             nan  ...   \n",
       "2  archives of environmental contamination and to...             nan  ...   \n",
       "3             environmental toxicology and chemistry             nan  ...   \n",
       "4                                        chemosphere             nan  ...   \n",
       "5             analytical and bioanalytical chemistry             nan  ...   \n",
       "6               the science of the total environment             nan  ...   \n",
       "7                   journal of environmental quality             nan  ...   \n",
       "8                                            talanta             nan  ...   \n",
       "9                                            talanta             nan  ...   \n",
       "\n",
       "                                Authors Affiliations Times cited  \\\n",
       "0  gielen, gerty j. h. p. (scion); clinton, peter...          14   \n",
       "1  song, wenlu (michigan state university); ding,...          48   \n",
       "2  wu, chenxi (university of toledo); spongberg, ...          38   \n",
       "3  monteiro, sara c. (university of york; fera sc...         133   \n",
       "4  gielen, gerty j.h.p. (scion); van den heuvel, ...          44   \n",
       "5  vazquez-roig, pablo (university of valencia); ...          74   \n",
       "6  vazquez-roig, pablo (university of valencia); ...         142   \n",
       "7  siemens, jan (university of bonn); huschek, ge...          28   \n",
       "8  chitescu, carmen lidia (\"dunarea de jos\" unive...          49   \n",
       "9  durán-alvarez, juan c. (national autonomous un...         118   \n",
       "\n",
       "   Recent citations   RCR    FCR  \\\n",
       "0                 3  0.43   1.47   \n",
       "1                 3  1.74   4.91   \n",
       "2                 4   1.2   3.97   \n",
       "3                14  4.51  13.63   \n",
       "4                 5   1.0   3.97   \n",
       "5                 9  3.08    8.9   \n",
       "6                30  5.78  16.17   \n",
       "7                 4  0.92   2.92   \n",
       "8                 7  1.83   5.77   \n",
       "9                14  3.97  11.02   \n",
       "\n",
       "                                      Source Linkout  \\\n",
       "0                                                nan   \n",
       "1                                                nan   \n",
       "2                                                nan   \n",
       "3  https://setac.onlinelibrary.wiley.com/doi/pdfd...   \n",
       "4                                                nan   \n",
       "5                                                nan   \n",
       "6                                                nan   \n",
       "7                                                nan   \n",
       "8                                                nan   \n",
       "9                                                nan   \n",
       "\n",
       "                                      Dimensions URL  \\\n",
       "0  https://app.dimensions.ai/details/publication/...   \n",
       "1  https://app.dimensions.ai/details/publication/...   \n",
       "2  https://app.dimensions.ai/details/publication/...   \n",
       "3  https://app.dimensions.ai/details/publication/...   \n",
       "4  https://app.dimensions.ai/details/publication/...   \n",
       "5  https://app.dimensions.ai/details/publication/...   \n",
       "6  https://app.dimensions.ai/details/publication/...   \n",
       "7  https://app.dimensions.ai/details/publication/...   \n",
       "8  https://app.dimensions.ai/details/publication/...   \n",
       "9  https://app.dimensions.ai/details/publication/...   \n",
       "\n",
       "                             FOR (ANZSRC) Categories  \\\n",
       "0  0605 microbiology; 0503 soil sciences; 05 envi...   \n",
       "1      0503 soil sciences; 05 environmental sciences   \n",
       "2      0503 soil sciences; 05 environmental sciences   \n",
       "3  0503 soil sciences; 05 environmental sciences;...   \n",
       "4      0503 soil sciences; 05 environmental sciences   \n",
       "5    03 chemical sciences; 0301 analytical chemistry   \n",
       "6  09 engineering; 0503 soil sciences; 03 chemica...   \n",
       "7      0503 soil sciences; 05 environmental sciences   \n",
       "8    03 chemical sciences; 0301 analytical chemistry   \n",
       "9    03 chemical sciences; 0301 analytical chemistry   \n",
       "\n",
       "  Sustainable Development Goals  \\\n",
       "0                           nan   \n",
       "1                           nan   \n",
       "2                           nan   \n",
       "3                           nan   \n",
       "4                           nan   \n",
       "5                           nan   \n",
       "6                           nan   \n",
       "7                           nan   \n",
       "8                           nan   \n",
       "9                           nan   \n",
       "\n",
       "                                     pharmaceuticals  \n",
       "0  [acetaminophen, aspirin, carbamazepine, chlorp...  \n",
       "1           [amprolium, carbadox, monensin, tylosin]  \n",
       "2  [carbamazepine, clindamycin, diltiazem, diphen...  \n",
       "3  [carbamazepine, fluoxetine, naproxen, sulfamet...  \n",
       "4                          [caffeine, carbamazepine]  \n",
       "5  [ciprofloxacin, clofibric acid, diclofenac, ib...  \n",
       "6  [acetaminophen, carbamazepine, codeine, ibupro...  \n",
       "7  [bezafibrate, clarithromycin, clindamycin, dic...  \n",
       "8                    [oxytetracycline, tetracycline]  \n",
       "9                [carbamazepine, estradiol, estrone]  \n",
       "\n",
       "[10 rows x 33 columns]"
      ]
     },
     "execution_count": 24,
     "metadata": {},
     "output_type": "execute_result"
    }
   ],
   "source": [
    "df_analysis = df_analysis.reset_index(drop = True)\n",
    "df_analysis.head(10)"
   ]
  },
  {
   "cell_type": "code",
   "execution_count": 25,
   "id": "96059fe0-cfc4-4b4c-8fef-9d6141cd6131",
   "metadata": {
    "id": "96059fe0-cfc4-4b4c-8fef-9d6141cd6131"
   },
   "outputs": [],
   "source": [
    "#skipped step: manual catching of the missed PPCP names on a random sample of length 20\n",
    "#random_sample = df_analysis.iloc[:,[6,32]].sample(20).reset_index(drop=True)\n",
    "\n",
    "#for i, row in random_sample.iterrows():\n",
    "#    print(row['pharmaceuticals'])\n",
    "#    print(row['Abstract'])\n",
    "#    print()"
   ]
  },
  {
   "cell_type": "markdown",
   "id": "940df5f8-1715-4dd8-a4a2-6adf77eaf813",
   "metadata": {
    "id": "940df5f8-1715-4dd8-a4a2-6adf77eaf813"
   },
   "source": [
    "## Analysis list"
   ]
  },
  {
   "cell_type": "code",
   "execution_count": 26,
   "id": "77c51f14-dc38-451a-8cf7-b38aa1d7b916",
   "metadata": {
    "colab": {
     "base_uri": "https://localhost:8080/"
    },
    "id": "77c51f14-dc38-451a-8cf7-b38aa1d7b916",
    "outputId": "0354cf0e-de20-406d-a34c-951212294df7"
   },
   "outputs": [
    {
     "name": "stdout",
     "output_type": "stream",
     "text": [
      "['acetaminophen', 'amprolium', 'aspirin', 'carbadox', 'carbamazepine', 'chlorpromazine', 'monensin', 'salicylic acid', 'tetracycline', 'tylosin']\n",
      "2732\n"
     ]
    }
   ],
   "source": [
    "#setting of a list of pharmaceuticals names occurred in the abstracts\n",
    "analysis_list = []\n",
    "for items in df_analysis['pharmaceuticals'].tolist():\n",
    "    for item in items:\n",
    "        analysis_list.append(item)\n",
    "print(sorted(analysis_list[0:10]))\n",
    "print(len(analysis_list))"
   ]
  },
  {
   "cell_type": "markdown",
   "id": "24ce3f71-ad88-49e3-8c5c-f7037c5bea6a",
   "metadata": {
    "id": "24ce3f71-ad88-49e3-8c5c-f7037c5bea6a"
   },
   "source": [
    "## Occurrence analysis"
   ]
  },
  {
   "cell_type": "code",
   "execution_count": 27,
   "id": "fd8f2005-373e-4272-979e-f9a9cfebd7d4",
   "metadata": {
    "colab": {
     "base_uri": "https://localhost:8080/",
     "height": 206
    },
    "id": "fd8f2005-373e-4272-979e-f9a9cfebd7d4",
    "outputId": "c3f98aec-c95e-4544-be7b-31b42de42e81"
   },
   "outputs": [
    {
     "data": {
      "text/html": [
       "<div>\n",
       "<style scoped>\n",
       "    .dataframe tbody tr th:only-of-type {\n",
       "        vertical-align: middle;\n",
       "    }\n",
       "\n",
       "    .dataframe tbody tr th {\n",
       "        vertical-align: top;\n",
       "    }\n",
       "\n",
       "    .dataframe thead th {\n",
       "        text-align: right;\n",
       "    }\n",
       "</style>\n",
       "<table border=\"1\" class=\"dataframe\">\n",
       "  <thead>\n",
       "    <tr style=\"text-align: right;\">\n",
       "      <th></th>\n",
       "      <th>pharmaceutical_name</th>\n",
       "      <th>theraupeutic_group</th>\n",
       "      <th>target_group</th>\n",
       "    </tr>\n",
       "  </thead>\n",
       "  <tbody>\n",
       "    <tr>\n",
       "      <th>0</th>\n",
       "      <td>paracetamol</td>\n",
       "      <td>analgesics</td>\n",
       "      <td>human</td>\n",
       "    </tr>\n",
       "    <tr>\n",
       "      <th>1</th>\n",
       "      <td>aspirin</td>\n",
       "      <td>nonsteroidal anti-inflammatory drugs</td>\n",
       "      <td>human and veterinary</td>\n",
       "    </tr>\n",
       "    <tr>\n",
       "      <th>2</th>\n",
       "      <td>carbamazepine</td>\n",
       "      <td>antiepileptic drugs</td>\n",
       "      <td>human</td>\n",
       "    </tr>\n",
       "    <tr>\n",
       "      <th>3</th>\n",
       "      <td>chlorpromazine</td>\n",
       "      <td>dopamine agonist</td>\n",
       "      <td>human</td>\n",
       "    </tr>\n",
       "    <tr>\n",
       "      <th>4</th>\n",
       "      <td>salicylic acid</td>\n",
       "      <td>skin care</td>\n",
       "      <td>human</td>\n",
       "    </tr>\n",
       "  </tbody>\n",
       "</table>\n",
       "</div>"
      ],
      "text/plain": [
       "  pharmaceutical_name                    theraupeutic_group  \\\n",
       "0         paracetamol                            analgesics   \n",
       "1             aspirin  nonsteroidal anti-inflammatory drugs   \n",
       "2       carbamazepine                   antiepileptic drugs   \n",
       "3      chlorpromazine                      dopamine agonist   \n",
       "4      salicylic acid                             skin care   \n",
       "\n",
       "           target_group  \n",
       "0                 human  \n",
       "1  human and veterinary  \n",
       "2                 human  \n",
       "3                 human  \n",
       "4                 human  "
      ]
     },
     "execution_count": 27,
     "metadata": {},
     "output_type": "execute_result"
    }
   ],
   "source": [
    "#creating of a new dataframe containing the info with mentions of pharmaceuticals in abstracts \n",
    "#and corresponding therapeutic group\n",
    "occurrence_data = pd.DataFrame(analysis_list, columns =['pharmaceutical_name'])\n",
    "occurrence_data['theraupeutic_group'] = occurrence_data['pharmaceutical_name'].map(therapeutic_group_keys)\n",
    "occurrence_data['target_group'] = occurrence_data['pharmaceutical_name'].map(target_group_keys)\n",
    "# replace of lost item\n",
    "occurrence_data['pharmaceutical_name'].replace('acetaminophen','paracetamol', regex=True, inplace=True)\n",
    "occurrence_data['pharmaceutical_name'].replace('acetylsalicylic acid','aspirin', regex=True, inplace=True)\n",
    "\n",
    "#checking new data\n",
    "occurrence_data.head(5)"
   ]
  },
  {
   "cell_type": "code",
   "execution_count": 28,
   "id": "74a6d2a8-6af8-467c-8412-fff7aa1c4400",
   "metadata": {
    "colab": {
     "base_uri": "https://localhost:8080/"
    },
    "id": "74a6d2a8-6af8-467c-8412-fff7aa1c4400",
    "outputId": "27f2efc6-9afe-46b9-9bdb-c5d43c9aeeb9"
   },
   "outputs": [
    {
     "data": {
      "text/plain": [
       "337"
      ]
     },
     "execution_count": 28,
     "metadata": {},
     "output_type": "execute_result"
    }
   ],
   "source": [
    "#check unique names of analytes\n",
    "len(occurrence_data.pharmaceutical_name.unique())"
   ]
  },
  {
   "cell_type": "markdown",
   "id": "9bfe266b-fef2-4598-88b2-2f936bb1042a",
   "metadata": {
    "id": "9bfe266b-fef2-4598-88b2-2f936bb1042a"
   },
   "source": [
    "### Most frequently studied substances (mentions more than 10)"
   ]
  },
  {
   "cell_type": "code",
   "execution_count": 29,
   "id": "ae1d3cfe-0c7f-4c74-98a5-710241f501b5",
   "metadata": {
    "id": "ae1d3cfe-0c7f-4c74-98a5-710241f501b5"
   },
   "outputs": [],
   "source": [
    "#setting the citation threshold\n",
    "threshold = 10"
   ]
  },
  {
   "cell_type": "code",
   "execution_count": 30,
   "id": "666c6799-19bf-43c4-9bf0-413ad09b425b",
   "metadata": {
    "colab": {
     "base_uri": "https://localhost:8080/",
     "height": 162
    },
    "id": "666c6799-19bf-43c4-9bf0-413ad09b425b",
    "outputId": "b2bb1b99-a7c7-4b64-d2af-d891d1679700"
   },
   "outputs": [
    {
     "data": {
      "text/html": [
       "<div>\n",
       "<style scoped>\n",
       "    .dataframe tbody tr th:only-of-type {\n",
       "        vertical-align: middle;\n",
       "    }\n",
       "\n",
       "    .dataframe tbody tr th {\n",
       "        vertical-align: top;\n",
       "    }\n",
       "\n",
       "    .dataframe thead th {\n",
       "        text-align: right;\n",
       "    }\n",
       "</style>\n",
       "<table border=\"1\" class=\"dataframe\">\n",
       "  <thead>\n",
       "    <tr style=\"text-align: right;\">\n",
       "      <th></th>\n",
       "      <th>pharmaceutical_name</th>\n",
       "      <th>counts</th>\n",
       "      <th>therapeutic_group</th>\n",
       "      <th>environment</th>\n",
       "      <th>target_group</th>\n",
       "      <th>perc</th>\n",
       "    </tr>\n",
       "  </thead>\n",
       "  <tbody>\n",
       "    <tr>\n",
       "      <th>0</th>\n",
       "      <td>carbamazepine</td>\n",
       "      <td>207</td>\n",
       "      <td>antiepileptic drugs</td>\n",
       "      <td>soil</td>\n",
       "      <td>human</td>\n",
       "      <td>10.3</td>\n",
       "    </tr>\n",
       "    <tr>\n",
       "      <th>1</th>\n",
       "      <td>ibuprofen</td>\n",
       "      <td>143</td>\n",
       "      <td>analgesics</td>\n",
       "      <td>soil</td>\n",
       "      <td>human</td>\n",
       "      <td>7.1</td>\n",
       "    </tr>\n",
       "    <tr>\n",
       "      <th>2</th>\n",
       "      <td>diclofenac</td>\n",
       "      <td>130</td>\n",
       "      <td>analgesics</td>\n",
       "      <td>soil</td>\n",
       "      <td>human</td>\n",
       "      <td>6.5</td>\n",
       "    </tr>\n",
       "  </tbody>\n",
       "</table>\n",
       "</div>"
      ],
      "text/plain": [
       "  pharmaceutical_name  counts    therapeutic_group environment target_group  \\\n",
       "0       carbamazepine     207  antiepileptic drugs        soil        human   \n",
       "1           ibuprofen     143           analgesics        soil        human   \n",
       "2          diclofenac     130           analgesics        soil        human   \n",
       "\n",
       "   perc  \n",
       "0  10.3  \n",
       "1   7.1  \n",
       "2   6.5  "
      ]
     },
     "metadata": {},
     "output_type": "display_data"
    },
    {
     "name": "stdout",
     "output_type": "stream",
     "text": [
      "51\n"
     ]
    }
   ],
   "source": [
    "#grouping of the analysis data by substances and according to the threshold\n",
    "frequently_studied_pharmaceuticals = occurrence_data['pharmaceutical_name'].value_counts(\n",
    ")[occurrence_data['pharmaceutical_name'].value_counts(\n",
    ")>threshold].rename_axis('pharmaceutical_name').reset_index(name='counts')#.hist()\n",
    "\n",
    "#seting important variables from created dictionaries\n",
    "frequently_studied_pharmaceuticals['therapeutic_group'] = frequently_studied_pharmaceuticals['pharmaceutical_name'].map(therapeutic_group_keys)\n",
    "frequently_studied_pharmaceuticals['environment'] = 'soil'\n",
    "frequently_studied_pharmaceuticals['target_group'] = frequently_studied_pharmaceuticals['pharmaceutical_name'].map(target_group_keys)\n",
    "\n",
    "#setting mentions percentage from all number of mentions in subsample\n",
    "frequently_studied_pharmaceuticals['perc']=100*frequently_studied_pharmaceuticals['counts']/frequently_studied_pharmaceuticals['counts'].sum()\n",
    "#rounding percentage variable\n",
    "frequently_studied_pharmaceuticals['perc'] = frequently_studied_pharmaceuticals['perc'].round(decimals=1)\n",
    "\n",
    "display(frequently_studied_pharmaceuticals.head(3))\n",
    "print(len(frequently_studied_pharmaceuticals))"
   ]
  },
  {
   "cell_type": "code",
   "execution_count": 31,
   "id": "c3d08d93-1e35-4dcf-b24f-19bcc3a4d582",
   "metadata": {
    "id": "c3d08d93-1e35-4dcf-b24f-19bcc3a4d582"
   },
   "outputs": [],
   "source": [
    "#save results\n",
    "#output_name = 'result_tables/frequently_studied_pharmaceuticals.csv'\n",
    "#reference_df.to_csv(output_name) "
   ]
  },
  {
   "cell_type": "code",
   "execution_count": 32,
   "id": "9ded9ffc-2efc-40c9-a613-0779835a0d33",
   "metadata": {
    "colab": {
     "base_uri": "https://localhost:8080/",
     "height": 143
    },
    "id": "9ded9ffc-2efc-40c9-a613-0779835a0d33",
    "outputId": "076b6f4e-a304-45dd-f2dd-16efce0e5ca7"
   },
   "outputs": [
    {
     "data": {
      "text/html": [
       "<div>\n",
       "<style scoped>\n",
       "    .dataframe tbody tr th:only-of-type {\n",
       "        vertical-align: middle;\n",
       "    }\n",
       "\n",
       "    .dataframe tbody tr th {\n",
       "        vertical-align: top;\n",
       "    }\n",
       "\n",
       "    .dataframe thead th {\n",
       "        text-align: right;\n",
       "    }\n",
       "</style>\n",
       "<table border=\"1\" class=\"dataframe\">\n",
       "  <thead>\n",
       "    <tr style=\"text-align: right;\">\n",
       "      <th></th>\n",
       "      <th>theraupeutic_group</th>\n",
       "      <th>counts</th>\n",
       "      <th>environment</th>\n",
       "      <th>perc</th>\n",
       "    </tr>\n",
       "  </thead>\n",
       "  <tbody>\n",
       "    <tr>\n",
       "      <th>0</th>\n",
       "      <td>antibiotics</td>\n",
       "      <td>928</td>\n",
       "      <td>soil</td>\n",
       "      <td>36.2</td>\n",
       "    </tr>\n",
       "    <tr>\n",
       "      <th>1</th>\n",
       "      <td>analgesics</td>\n",
       "      <td>490</td>\n",
       "      <td>soil</td>\n",
       "      <td>19.1</td>\n",
       "    </tr>\n",
       "    <tr>\n",
       "      <th>2</th>\n",
       "      <td>antiepileptic drugs</td>\n",
       "      <td>214</td>\n",
       "      <td>soil</td>\n",
       "      <td>8.3</td>\n",
       "    </tr>\n",
       "  </tbody>\n",
       "</table>\n",
       "</div>"
      ],
      "text/plain": [
       "    theraupeutic_group  counts environment  perc\n",
       "0         antibiotics      928        soil  36.2\n",
       "1           analgesics     490        soil  19.1\n",
       "2  antiepileptic drugs     214        soil   8.3"
      ]
     },
     "execution_count": 32,
     "metadata": {},
     "output_type": "execute_result"
    }
   ],
   "source": [
    "#grouping of the analysis data by the therapeutic group\n",
    "frequently_studied_theur_grops = occurrence_data['theraupeutic_group'].value_counts(\n",
    ")[occurrence_data['theraupeutic_group'].value_counts(\n",
    ")>threshold].rename_axis('theraupeutic_group').reset_index(name='counts')\n",
    "frequently_studied_theur_grops['environment'] = 'soil'\n",
    "\n",
    "#setting mentions percentage from all number of mentions in subsample\n",
    "frequently_studied_theur_grops['perc'] = 100*frequently_studied_theur_grops['counts']/frequently_studied_theur_grops['counts'].sum()\n",
    "#rounding percentage variable \n",
    "frequently_studied_theur_grops['perc'] = frequently_studied_theur_grops['perc'].round(decimals=1)\n",
    "\n",
    "frequently_studied_theur_grops.head(3)"
   ]
  },
  {
   "cell_type": "code",
   "execution_count": 33,
   "id": "635894b3-65cf-49e0-b706-490c2012867c",
   "metadata": {
    "id": "635894b3-65cf-49e0-b706-490c2012867c"
   },
   "outputs": [],
   "source": [
    "#save results\n",
    "#output_name = 'result_tables/frequently_studied_theur_grops.csv'\n",
    "#reference_df.to_csv(output_name) "
   ]
  },
  {
   "cell_type": "markdown",
   "id": "828d78d5-4f38-4e78-8ed8-30dcfdd17fd6",
   "metadata": {
    "id": "828d78d5-4f38-4e78-8ed8-30dcfdd17fd6"
   },
   "source": [
    "## Results visualisation"
   ]
  },
  {
   "cell_type": "markdown",
   "id": "dce6e0f9-a242-484d-a11f-04bb1354438e",
   "metadata": {
    "id": "dce6e0f9-a242-484d-a11f-04bb1354438e"
   },
   "source": [
    "### Whole timeline (from 2000 to 2022)"
   ]
  },
  {
   "cell_type": "markdown",
   "id": "6435a566-5e54-4e15-9c8a-11c1a910e0f1",
   "metadata": {
    "id": "6435a566-5e54-4e15-9c8a-11c1a910e0f1",
    "tags": []
   },
   "source": [
    "#### Therapeutical groups pie plotly vis"
   ]
  },
  {
   "cell_type": "code",
   "execution_count": 34,
   "id": "0373b30b-cd03-466a-a8f5-8853d55062d5",
   "metadata": {
    "id": "0373b30b-cd03-466a-a8f5-8853d55062d5"
   },
   "outputs": [],
   "source": [
    "#library for dynamic visualisations (jupyter notebook/lab, Google Colab)\n",
    "import plotly.express as px\n",
    "import importlib"
   ]
  },
  {
   "cell_type": "code",
   "execution_count": 35,
   "id": "21f2b383-0061-4a67-8b7e-30f181a76abc",
   "metadata": {
    "id": "21f2b383-0061-4a67-8b7e-30f181a76abc"
   },
   "outputs": [],
   "source": [
    "#defining coloring settings: pallette (pal) and number of colors (n)\n",
    "n = len(frequently_studied_theur_grops)\n",
    "pal = list(sns.color_palette(palette=\"light:#5A9\", n_colors=n).as_hex())"
   ]
  },
  {
   "cell_type": "code",
   "execution_count": null,
   "id": "c93703d2-1e24-4ddb-af6f-2a1e21c746fb",
   "metadata": {
    "colab": {
     "base_uri": "https://localhost:8080/",
     "height": 937
    },
    "id": "c93703d2-1e24-4ddb-af6f-2a1e21c746fb",
    "outputId": "e2ff5b16-8ac7-4339-b272-2ad2d483e621"
   },
   "outputs": [],
   "source": [
    "#visualisation\n",
    "fig = px.pie(frequently_studied_theur_grops, \n",
    "             values='perc', \n",
    "             names='theraupeutic_group',\n",
    "             color_discrete_sequence=pal)\n",
    "\n",
    "fig.update_traces(textposition='outside', \n",
    "                  textinfo='percent+label', \n",
    "                  hole=.6, \n",
    "                  hoverinfo=\"label+percent+name\", \n",
    "                  textfont_size=14)\n",
    "\n",
    "fig.update_layout(width = 1600, height = 900,\n",
    "                  margin = dict(t=0, l=0, r=600, b=0),\n",
    "                  legend_font_size = 14)\n",
    "\n",
    "#output_name = 'result_plots/pie_plot.png'\n",
    "#fig.write_image(output_name, scale=6)\n",
    "fig.show()"
   ]
  },
  {
   "cell_type": "markdown",
   "id": "591a3f54-3e3e-4d96-a6a0-bd395b4df4a6",
   "metadata": {
    "id": "591a3f54-3e3e-4d96-a6a0-bd395b4df4a6"
   },
   "source": [
    "#### Analyte names as parallel categories vis"
   ]
  },
  {
   "cell_type": "code",
   "execution_count": null,
   "id": "0c2b3d46-a899-4f8e-a737-5ea2dd4a27e4",
   "metadata": {
    "colab": {
     "base_uri": "https://localhost:8080/",
     "height": 937
    },
    "id": "0c2b3d46-a899-4f8e-a737-5ea2dd4a27e4",
    "outputId": "f181039b-ea80-42aa-eea5-7602eb0df1b5"
   },
   "outputs": [],
   "source": [
    "fig = px.parallel_categories(frequently_studied_pharmaceuticals.sort_values(by=['counts',\n",
    "                                                                                'pharmaceutical_name'], \n",
    "                                                                            ascending=False), \n",
    "                             dimensions=['pharmaceutical_name','target_group','therapeutic_group'], \n",
    "                             color='counts', \n",
    "                             labels = {'pharmaceutical_name':'',\n",
    "                                       'target_group':'',\n",
    "                                       'therapeutic_group':''},\n",
    "                            height=900,\n",
    "                            width=1400)\n",
    "\n",
    "fig.update_traces(tickfont={'size': 12})\n",
    "# move colorbar\n",
    "fig.update_layout(coloraxis_colorbar=dict(orientation=\"h\"),\n",
    "                  coloraxis_colorbar_thickness=10,\n",
    "                  legend_font_size = 14)\n",
    "\n",
    "# output_name = 'result_plots/pharmaceuticals_pc_whole_timeline.png'\n",
    "# fig.write_image(output_name, scale=4)\n",
    "fig.show()"
   ]
  },
  {
   "cell_type": "markdown",
   "id": "7d1058b0-c092-44be-98a7-2ae80e219877",
   "metadata": {
    "id": "7d1058b0-c092-44be-98a7-2ae80e219877"
   },
   "source": [
    "#### Analyte names as parallel categories vis -- limited occurrence (mentions perc >1)"
   ]
  },
  {
   "cell_type": "code",
   "execution_count": null,
   "id": "1bd95d01-572a-4f28-9e55-53b3f6692884",
   "metadata": {
    "colab": {
     "base_uri": "https://localhost:8080/",
     "height": 637
    },
    "id": "1bd95d01-572a-4f28-9e55-53b3f6692884",
    "outputId": "a2a12168-dfe1-46bd-f763-a70618ecdcb6"
   },
   "outputs": [],
   "source": [
    "fig = px.parallel_categories(frequently_studied_pharmaceuticals.query('perc>1').sort_values(by=['counts',\n",
    "                                                                                'pharmaceutical_name'], \n",
    "                                                                            ascending=False), \n",
    "                             dimensions=['pharmaceutical_name','target_group','therapeutic_group'], \n",
    "                             color='counts', \n",
    "                             labels = {'pharmaceutical_name':'',\n",
    "                                       'target_group':'',\n",
    "                                       'therapeutic_group':''},\n",
    "                            height=600,\n",
    "                            width=1200)\n",
    "\n",
    "fig.update_traces(tickfont={'size': 12})\n",
    "# move colorbar\n",
    "fig.update_layout(coloraxis_colorbar=dict(orientation=\"h\"),\n",
    "                  coloraxis_colorbar_thickness=10)\n",
    "\n",
    "#output_name = 'result_plots/pharmaceuticals_pc_whole_timeline_1_perc.png'\n",
    "#fig.write_image(output_name, scale=4)\n",
    "\n",
    "fig.show()"
   ]
  },
  {
   "cell_type": "markdown",
   "id": "28be41c3-ab4f-472e-8b7a-288cebb63698",
   "metadata": {
    "id": "28be41c3-ab4f-472e-8b7a-288cebb63698"
   },
   "source": [
    "## Last 5 years"
   ]
  },
  {
   "cell_type": "code",
   "execution_count": null,
   "id": "81d1d375-6e7a-435f-8965-81d282d3c903",
   "metadata": {
    "colab": {
     "base_uri": "https://localhost:8080/",
     "height": 162
    },
    "id": "81d1d375-6e7a-435f-8965-81d282d3c903",
    "outputId": "3941ba07-4d17-49df-e88c-151c2573afa1"
   },
   "outputs": [],
   "source": [
    "analysis_list_recent = []\n",
    "for items in df_analysis.query('PubYear >= 2017')['pharmaceuticals'].tolist():\n",
    "    for item in items:\n",
    "        analysis_list_recent.append(item)\n",
    "#creating of a new dataframe containing the info with mentions of pharmaceuticals in abstracts \n",
    "#and corresponding therapeutic group\n",
    "occurrence_data_recent = pd.DataFrame(analysis_list_recent, columns =['pharmaceutical_name'])\n",
    "occurrence_data_recent['theraupeutic_group'] = occurrence_data_recent['pharmaceutical_name'].map(therapeutic_group_keys)\n",
    "occurrence_data_recent['target_group'] = occurrence_data_recent['pharmaceutical_name'].map(target_group_keys)\n",
    "# replace of lost item\n",
    "occurrence_data_recent['pharmaceutical_name'].replace('acetaminophen','paracetamol', regex=True, inplace=True)\n",
    "#checking new data\n",
    "display(occurrence_data_recent.head(3))\n",
    "#check unique names of analytes\n",
    "print(len(occurrence_data_recent.pharmaceutical_name.unique()))"
   ]
  },
  {
   "cell_type": "code",
   "execution_count": null,
   "id": "5070fd94-3569-405f-93a0-f1c8d3af9d82",
   "metadata": {
    "colab": {
     "base_uri": "https://localhost:8080/"
    },
    "id": "5070fd94-3569-405f-93a0-f1c8d3af9d82",
    "outputId": "019ae31a-0b91-414e-a008-e88965cc60c2"
   },
   "outputs": [],
   "source": [
    "#grouping of the analysis data by substances\n",
    "frequently_studied_pharmaceuticals_r = occurrence_data_recent['pharmaceutical_name'].value_counts()[occurrence_data_recent['pharmaceutical_name'].value_counts(\n",
    ")>threshold].rename_axis('pharmaceutical_name').reset_index(name='counts')#.hist()\n",
    "#seting important variables\n",
    "frequently_studied_pharmaceuticals_r['therapeutic_group'] = frequently_studied_pharmaceuticals_r['pharmaceutical_name'].map(therapeutic_group_keys)\n",
    "frequently_studied_pharmaceuticals_r['environment'] = 'soil'\n",
    "frequently_studied_pharmaceuticals_r['target_group'] = frequently_studied_pharmaceuticals_r['pharmaceutical_name'].map(target_group_keys)\n",
    "print(len(frequently_studied_pharmaceuticals_r))\n"
   ]
  },
  {
   "cell_type": "code",
   "execution_count": null,
   "id": "83d7ed0f-a148-4f9b-aab0-63fc67056141",
   "metadata": {
    "colab": {
     "base_uri": "https://localhost:8080/",
     "height": 737
    },
    "id": "83d7ed0f-a148-4f9b-aab0-63fc67056141",
    "outputId": "32c8329d-7360-43db-c6b7-3020b5369f4b"
   },
   "outputs": [],
   "source": [
    "fig = px.parallel_categories(frequently_studied_pharmaceuticals_r.sort_values(by=['counts',\n",
    "                                                                                'pharmaceutical_name'], \n",
    "                                                                            ascending=False), \n",
    "                             dimensions=['pharmaceutical_name','target_group','therapeutic_group'], \n",
    "                             color='counts',\n",
    "                             labels = {'pharmaceutical_name':'',\n",
    "                                       'target_group':'',\n",
    "                                       'therapeutic_group':''},\n",
    "                            height=700,\n",
    "\n",
    "                             width=1200).update_traces(labelfont={\"size\":18})\n",
    "\n",
    "# move colorbar\n",
    "fig.update_layout(coloraxis_colorbar=dict(orientation=\"h\"),\n",
    "                  coloraxis_colorbar_thickness=10)\n",
    "\n",
    "#output_name = 'result_plots/pharmaceuticals_pc_from_2017.png'\n",
    "#fig.write_image(output_name, scale=6)\n",
    "fig.show()"
   ]
  },
  {
   "cell_type": "code",
   "execution_count": null,
   "id": "22c19f9d-6c54-4873-b480-4f57795ba9d9",
   "metadata": {
    "id": "22c19f9d-6c54-4873-b480-4f57795ba9d9"
   },
   "outputs": [],
   "source": [
    "#grouping of the analysis data by the therapeutic group\n",
    "frequently_studied_theur_grops_r = occurrence_data_recent['theraupeutic_group'].value_counts(\n",
    ")[occurrence_data_recent['theraupeutic_group'].value_counts(\n",
    ")>threshold].rename_axis('theraupeutic_group').reset_index(name='counts')\n",
    "frequently_studied_theur_grops_r['perc'] = 100*frequently_studied_theur_grops_r['counts']/frequently_studied_theur_grops_r['counts'].sum()\n",
    "#\n",
    "frequently_studied_theur_grops_r['perc'] =frequently_studied_theur_grops_r['perc'].round(decimals=1)"
   ]
  },
  {
   "cell_type": "code",
   "execution_count": null,
   "id": "705fa1e3-8454-4d4c-ad9b-b876f6c0d3b8",
   "metadata": {
    "colab": {
     "base_uri": "https://localhost:8080/",
     "height": 887
    },
    "id": "705fa1e3-8454-4d4c-ad9b-b876f6c0d3b8",
    "outputId": "2141a21f-62e9-4611-b710-db0be3ad7289"
   },
   "outputs": [],
   "source": [
    "fig = px.pie(frequently_studied_theur_grops_r, \n",
    "             values='perc', \n",
    "             names='theraupeutic_group',\n",
    "             color_discrete_sequence=pal)\n",
    "\n",
    "fig.update_traces(textposition='outside', textinfo='percent+label', \n",
    "                  hole=.6, hoverinfo=\"label+percent+name\")\n",
    "\n",
    "fig.update_layout(width = 1200, height = 850,\n",
    "                  margin = dict(t=0, l=0, r=0, b=0))\n",
    "\n",
    "#output_name = 'result_plots/pie_plot_from_2017.png'\n",
    "#fig.write_image(output_name, scale=6)\n",
    "fig.show()"
   ]
  },
  {
   "cell_type": "markdown",
   "id": "0bec754e-7434-4b0c-939e-f0ecb735db10",
   "metadata": {
    "id": "0bec754e-7434-4b0c-939e-f0ecb735db10"
   },
   "source": [
    "## Before 2017"
   ]
  },
  {
   "cell_type": "code",
   "execution_count": null,
   "id": "d0d986fd-bdf6-4e86-b99a-12afbd8cc062",
   "metadata": {
    "colab": {
     "base_uri": "https://localhost:8080/",
     "height": 225
    },
    "id": "d0d986fd-bdf6-4e86-b99a-12afbd8cc062",
    "outputId": "6f7a65f9-09e9-43dc-a7ed-e4569181e539"
   },
   "outputs": [],
   "source": [
    "df_before_2017 = df_analysis.query('PubYear < 2017')\n",
    "analysis_list_before_2017 = []\n",
    "\n",
    "for items in df_before_2017['pharmaceuticals'].tolist():\n",
    "    for item in items:\n",
    "        analysis_list_before_2017.append(item)\n",
    "\n",
    "#creating of a new dataframe containing the info with mentions of pharmaceuticals in abstracts \n",
    "#and corresponding therapeutic group\n",
    "occurrence_data_before_2017 = pd.DataFrame(analysis_list_before_2017, columns =['pharmaceutical_name'])\n",
    "occurrence_data_before_2017['theraupeutic_group'] = occurrence_data_before_2017['pharmaceutical_name'].map(therapeutic_group_keys)\n",
    "occurrence_data_before_2017['target_group'] = occurrence_data_before_2017['pharmaceutical_name'].map(target_group_keys)\n",
    "# replace of lost item\n",
    "occurrence_data_before_2017['pharmaceutical_name'].replace('acetaminophen','paracetamol', regex=True, inplace=True)\n",
    "#checking new data\n",
    "display(occurrence_data_before_2017.head(5))\n",
    "#check unique names of analytes\n",
    "print(len(occurrence_data_before_2017.pharmaceutical_name.unique()))"
   ]
  },
  {
   "cell_type": "code",
   "execution_count": null,
   "id": "800744f0-4b26-4f77-89c3-27b8c7a43f11",
   "metadata": {
    "id": "800744f0-4b26-4f77-89c3-27b8c7a43f11"
   },
   "outputs": [],
   "source": [
    "#grouping of the analysis data by substances\n",
    "frequently_studied_pharmaceuticals_b = occurrence_data_before_2017['pharmaceutical_name'].value_counts(\n",
    ")[occurrence_data_before_2017['pharmaceutical_name'].value_counts()>threshold].rename_axis('pharmaceutical_name').reset_index(name='counts')#.hist()\n",
    "\n",
    "#seting important variables\n",
    "frequently_studied_pharmaceuticals_b['therapeutic_group'] = frequently_studied_pharmaceuticals_b['pharmaceutical_name'].map(therapeutic_group_keys)\n",
    "frequently_studied_pharmaceuticals_b['environment'] = 'soil'\n",
    "frequently_studied_pharmaceuticals_b['target_group'] = frequently_studied_pharmaceuticals_b['pharmaceutical_name'].map(target_group_keys)\n"
   ]
  },
  {
   "cell_type": "code",
   "execution_count": null,
   "id": "58ab6eba-eeaf-421d-92a3-82968505835e",
   "metadata": {
    "colab": {
     "base_uri": "https://localhost:8080/",
     "height": 737
    },
    "id": "58ab6eba-eeaf-421d-92a3-82968505835e",
    "outputId": "2a989f4b-89cf-4a11-be11-5587ee742363"
   },
   "outputs": [],
   "source": [
    "fig = px.parallel_categories(frequently_studied_pharmaceuticals_b.sort_values(by=['counts',\n",
    "                                                                                'pharmaceutical_name'], \n",
    "                                                                            ascending=False), \n",
    "                             dimensions=['pharmaceutical_name','target_group','therapeutic_group'], \n",
    "                             color='counts',\n",
    "                             labels = {'pharmaceutical_name':'',\n",
    "                                       'target_group':'',\n",
    "                                       'therapeutic_group':''},\n",
    "                            height=700,\n",
    "                            width=1200).update_traces(labelfont={\"size\":18})\n",
    "\n",
    "# move colorbar\n",
    "fig.update_layout(coloraxis_colorbar=dict(orientation=\"h\"),\n",
    "                  coloraxis_colorbar_thickness=10)\n",
    "\n",
    "#output_name = 'result_plots/pharmaceuticals_pc_before_2017.png'\n",
    "#fig.write_image(output_name, scale=6)\n",
    "\n",
    "\n",
    "fig.show()"
   ]
  },
  {
   "cell_type": "code",
   "execution_count": null,
   "id": "6e5f349a-1f72-4e9f-8f1e-bd9bdb872253",
   "metadata": {
    "id": "6e5f349a-1f72-4e9f-8f1e-bd9bdb872253"
   },
   "outputs": [],
   "source": [
    "#grouping of the analysis data by the therapeutic group\n",
    "frequently_studied_pharmaceuticals_b = occurrence_data_before_2017['theraupeutic_group'].value_counts(\n",
    ")[occurrence_data_before_2017['theraupeutic_group'].value_counts(\n",
    ")>threshold].rename_axis('theraupeutic_group').reset_index(name='counts')\n",
    "\n",
    "frequently_studied_pharmaceuticals_b['perc'] = 100*frequently_studied_pharmaceuticals_b['counts']/frequently_studied_pharmaceuticals_b['counts'].sum()\n",
    "#\n",
    "frequently_studied_pharmaceuticals_b['perc'] = frequently_studied_pharmaceuticals_b['perc'].round(decimals=1)"
   ]
  },
  {
   "cell_type": "code",
   "execution_count": null,
   "id": "18880c01-9734-4a8d-a3c0-f92cb6d51395",
   "metadata": {
    "colab": {
     "base_uri": "https://localhost:8080/",
     "height": 887
    },
    "id": "18880c01-9734-4a8d-a3c0-f92cb6d51395",
    "outputId": "ddeac64a-b924-4940-a070-0908efa04d89"
   },
   "outputs": [],
   "source": [
    "fig = px.pie(frequently_studied_pharmaceuticals_b, \n",
    "             values='perc', \n",
    "             names='theraupeutic_group',\n",
    "             color_discrete_sequence=pal)\n",
    "\n",
    "fig.update_traces(textposition='outside', textinfo='percent+label', \n",
    "                  hole=.6, hoverinfo=\"label+percent+name\")\n",
    "\n",
    "fig.update_layout(width = 1200, height = 850,\n",
    "                  margin = dict(t=0, l=0, r=0, b=0))\n",
    "\n",
    "#output_name = 'result_plots/pie_plot_before_2017.png'\n",
    "#fig.write_image(output_name, scale=6)\n",
    "fig.show()"
   ]
  },
  {
   "cell_type": "markdown",
   "id": "304374a8-4b40-4343-be15-0e03354b6d88",
   "metadata": {
    "id": "304374a8-4b40-4343-be15-0e03354b6d88"
   },
   "source": [
    "## Top cited papers"
   ]
  },
  {
   "cell_type": "markdown",
   "id": "3deb7071-3fe1-410b-b908-9121a21440d5",
   "metadata": {
    "id": "3deb7071-3fe1-410b-b908-9121a21440d5"
   },
   "source": [
    "On this stage we select the most cited papers by pharmaceuticals and among the last 5 years"
   ]
  },
  {
   "cell_type": "code",
   "execution_count": null,
   "id": "d4409a61-e861-4273-8d34-fa28b6d823b2",
   "metadata": {
    "id": "d4409a61-e861-4273-8d34-fa28b6d823b2"
   },
   "outputs": [],
   "source": [
    "#top cited papers by mention of analytes\n",
    "df_analysis = df_analysis.apply(lambda x: x.astype(str).str.lower(\n",
    ") if x.name != 'Times cited' and x.name != 'PubYear' else x)\n",
    "reference_df = pd.DataFrame()\n",
    "\n",
    "for pharm in frequently_studied_pharmaceuticals.pharmaceutical_name:\n",
    "    reference_data = df_analysis[df_analysis.pharmaceuticals.str.contains(pharm)][['DOI', \n",
    "                                                        'Title',\n",
    "                                                        'Source title',\n",
    "                                                        'PubYear',\n",
    "                                                        'Times cited',\n",
    "                                                        'pharmaceuticals']].query('PubYear >= 2017').sort_values(by='Times cited',\n",
    "                                                                                  ascending=False).head(5)\n",
    "    reference_data['pharmaceutical_name'] = pharm\n",
    "    reference_df = pd.concat((reference_df,reference_data)).reset_index(drop=True)"
   ]
  },
  {
   "cell_type": "code",
   "execution_count": null,
   "id": "2c6148ec-f04b-4f48-8173-0ad84a4df84a",
   "metadata": {
    "colab": {
     "base_uri": "https://localhost:8080/",
     "height": 676
    },
    "id": "2c6148ec-f04b-4f48-8173-0ad84a4df84a",
    "outputId": "1ca69a1d-d3a5-4174-b17c-0a8bc58c9ebd"
   },
   "outputs": [],
   "source": [
    "reference_df#.head(10)\n",
    "\n",
    "#save results\n",
    "output_name = 'result_tables/reference_df.csv'\n",
    "reference_df.to_csv(output_name) "
   ]
  },
  {
   "cell_type": "code",
   "execution_count": null,
   "id": "d92b4afa-5fcc-482a-8460-1a3d5f957a05",
   "metadata": {
    "id": "d92b4afa-5fcc-482a-8460-1a3d5f957a05"
   },
   "outputs": [],
   "source": [
    "reference_df['reference_number'] = reference_df.groupby('Title', sort=False).ngroup()"
   ]
  },
  {
   "cell_type": "code",
   "execution_count": null,
   "id": "174b50c3-d12e-431f-a3de-8d97fb6c8ae2",
   "metadata": {
    "id": "174b50c3-d12e-431f-a3de-8d97fb6c8ae2"
   },
   "outputs": [],
   "source": [
    "# display table with total amount of papers with mentions from 2000 to 2022\n",
    "#pd.merge(reference_df, frequently_studied_pharmaceuticals[['pharmaceutical_name','counts']],on='pharmaceutical_name', how='left')"
   ]
  },
  {
   "cell_type": "code",
   "execution_count": null,
   "id": "6b4bc20e-47c7-41fb-a982-6aec754222e8",
   "metadata": {
    "id": "6b4bc20e-47c7-41fb-a982-6aec754222e8"
   },
   "outputs": [],
   "source": [
    "#searching through each year top-5 cited publicaitons\n",
    "#for year in df_analysis['PubYear'].unique():\n",
    "#    display(df_analysis[df_analysis['PubYear'] == year][['DOI', \n",
    "#                                                        'Title',\n",
    "#                                                        'Source title',\n",
    "#                                                        'PubYear',\n",
    "#                                                        'Times cited',\n",
    "#                                                        'pharmaceuticals']].sort_values(by='Times cited', \n",
    "#                                                                    ascending=False).head(5))"
   ]
  },
  {
   "cell_type": "markdown",
   "id": "92df50bc-1c2e-4e06-b8ff-ce6a289b8256",
   "metadata": {
    "id": "92df50bc-1c2e-4e06-b8ff-ce6a289b8256"
   },
   "source": [
    "# 🍂"
   ]
  }
 ],
 "metadata": {
  "colab": {
   "collapsed_sections": [],
   "provenance": []
  },
  "kernelspec": {
   "display_name": "venv",
   "language": "python",
   "name": "venv"
  },
  "language_info": {
   "codemirror_mode": {
    "name": "ipython",
    "version": 3
   },
   "file_extension": ".py",
   "mimetype": "text/x-python",
   "name": "python",
   "nbconvert_exporter": "python",
   "pygments_lexer": "ipython3",
   "version": "3.10.4"
  }
 },
 "nbformat": 4,
 "nbformat_minor": 5
}
